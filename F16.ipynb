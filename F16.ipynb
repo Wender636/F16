{
  "nbformat": 4,
  "nbformat_minor": 0,
  "metadata": {
    "colab": {
      "name": "F16",
      "provenance": [],
      "collapsed_sections": []
    },
    "kernelspec": {
      "name": "python3",
      "display_name": "Python 3"
    },
    "language_info": {
      "name": "python"
    }
  },
  "cells": [
    {
      "cell_type": "markdown",
      "source": [
        "# F16\n",
        "\n",
        "---\n",
        "\n",
        "\n",
        "\n",
        "---\n",
        "\n"
      ],
      "metadata": {
        "id": "Bu2Cb621fUHu"
      }
    },
    {
      "cell_type": "code",
      "source": [
        "import pandas as pd\n",
        "import numpy as np\n",
        "import matplotlib as mlp"
      ],
      "metadata": {
        "id": "RBBXHQ1vfMvK"
      },
      "execution_count": null,
      "outputs": []
    },
    {
      "cell_type": "code",
      "source": [
        "from google.colab import drive\n",
        "drive.mount('/content/drive')"
      ],
      "metadata": {
        "colab": {
          "base_uri": "https://localhost:8080/"
        },
        "id": "sdetqXvWfg4v",
        "outputId": "be8e7c79-71cd-4f1a-f6fc-c4ddd1fba7e0"
      },
      "execution_count": null,
      "outputs": [
        {
          "output_type": "stream",
          "name": "stdout",
          "text": [
            "Mounted at /content/drive\n"
          ]
        }
      ]
    },
    {
      "cell_type": "markdown",
      "source": [
        "#Teste\n",
        "\n",
        "---\n",
        "\n",
        "\n",
        "\n",
        "---\n"
      ],
      "metadata": {
        "id": "u_u-a3fhfzJ3"
      }
    },
    {
      "cell_type": "code",
      "source": [
        "df1_tr_e = pd.read_csv('/content/drive/MyDrive/teste/F16cord-momen.csv', encoding='ISO-8859-1', sep=';')"
      ],
      "metadata": {
        "id": "yCGFiX7Df2nR"
      },
      "execution_count": null,
      "outputs": []
    },
    {
      "cell_type": "code",
      "source": [
        "df2_tr_e = pd.read_csv('/content/drive/MyDrive/teste/f16cord_turb.csv', encoding='ISO-8859-1', sep=';')"
      ],
      "metadata": {
        "id": "IhwAJat5f9k6"
      },
      "execution_count": null,
      "outputs": []
    },
    {
      "cell_type": "code",
      "source": [
        "df3_tr_e = pd.read_csv('/content/drive/MyDrive/teste/F16cord_heat.csv', encoding='ISO-8859-1', sep=';')"
      ],
      "metadata": {
        "id": "JoXBOmwcf9nS"
      },
      "execution_count": null,
      "outputs": []
    },
    {
      "cell_type": "code",
      "source": [
        "df4_tr_e = pd.read_csv('/content/drive/MyDrive/teste/f16cord_wall.csv', encoding='ISO-8859-1', sep=';')"
      ],
      "metadata": {
        "id": "495_Sz1-f9pi"
      },
      "execution_count": null,
      "outputs": []
    },
    {
      "cell_type": "code",
      "source": [
        "df5_tr_e = pd.read_csv('/content/drive/MyDrive/teste/f16vari_momen.csv', encoding='ISO-8859-1', sep=';')"
      ],
      "metadata": {
        "id": "_L9OCDsyf9rq"
      },
      "execution_count": null,
      "outputs": []
    },
    {
      "cell_type": "code",
      "source": [
        "df6_tr_e = pd.read_csv('/content/drive/MyDrive/teste/f16vari_turb.csv', encoding='ISO-8859-1', sep=';')"
      ],
      "metadata": {
        "id": "GqXNZrE_f9t7"
      },
      "execution_count": null,
      "outputs": []
    },
    {
      "cell_type": "code",
      "source": [
        "df7_tr_e = pd.read_csv('/content/drive/MyDrive/teste/f16vari_heat.csv', encoding='ISO-8859-1', sep=';')"
      ],
      "metadata": {
        "id": "q66TQTZif9xo"
      },
      "execution_count": null,
      "outputs": []
    },
    {
      "cell_type": "code",
      "source": [
        "df8_tr_e = pd.read_csv('/content/drive/MyDrive/teste/f16vari_wall.csv', encoding='ISO-8859-1', sep=';')"
      ],
      "metadata": {
        "id": "2SXrhWxIf90k"
      },
      "execution_count": null,
      "outputs": []
    },
    {
      "cell_type": "code",
      "source": [
        "df9_tr_e = pd.read_csv('/content/drive/MyDrive/teste/pressao-x.csv', encoding='ISO-8859-1', sep=';')"
      ],
      "metadata": {
        "id": "_xhlDEozsMjv"
      },
      "execution_count": null,
      "outputs": []
    },
    {
      "cell_type": "code",
      "source": [
        "df10_tr_e = pd.read_csv('/content/drive/MyDrive/teste/pressao-x.csv', encoding='ISO-8859-1', sep=';')"
      ],
      "metadata": {
        "id": "gs8X2ciTQJmo"
      },
      "execution_count": null,
      "outputs": []
    },
    {
      "cell_type": "markdown",
      "source": [
        "**Resultados** F16\n",
        "\n",
        "---\n",
        "\n",
        "\n",
        "\n",
        "---\n",
        "\n"
      ],
      "metadata": {
        "id": "ZolqdLMuhA3F"
      }
    },
    {
      "cell_type": "code",
      "source": [
        "df1_tr_e"
      ],
      "metadata": {
        "id": "zOmSmt7egy5P",
        "colab": {
          "base_uri": "https://localhost:8080/",
          "height": 424
        },
        "outputId": "a9c2890f-201f-44c1-95d5-57b724a67e55"
      },
      "execution_count": null,
      "outputs": [
        {
          "output_type": "execute_result",
          "data": {
            "text/plain": [
              "                                                [Name]\n",
              "0    Momentum and Mass: Plot Coordinates for RMS P-...\n",
              "1                                               [Data]\n",
              "2                                    X Value,\"Y Value\"\n",
              "3                        1.00000000e+00,6.98737893e-03\n",
              "4                        2.00000000e+00,2.08592042e-03\n",
              "..                                                 ...\n",
              "410                      9.60000000e+01,1.41987097e-04\n",
              "411                      9.70000000e+01,1.38051837e-04\n",
              "412                      9.80000000e+01,1.34618997e-04\n",
              "413                      9.90000000e+01,1.31175126e-04\n",
              "414                      1.00000000e+02,1.27789710e-04\n",
              "\n",
              "[415 rows x 1 columns]"
            ],
            "text/html": [
              "\n",
              "  <div id=\"df-45c72aec-bda2-4846-9fef-67a5c3d71019\">\n",
              "    <div class=\"colab-df-container\">\n",
              "      <div>\n",
              "<style scoped>\n",
              "    .dataframe tbody tr th:only-of-type {\n",
              "        vertical-align: middle;\n",
              "    }\n",
              "\n",
              "    .dataframe tbody tr th {\n",
              "        vertical-align: top;\n",
              "    }\n",
              "\n",
              "    .dataframe thead th {\n",
              "        text-align: right;\n",
              "    }\n",
              "</style>\n",
              "<table border=\"1\" class=\"dataframe\">\n",
              "  <thead>\n",
              "    <tr style=\"text-align: right;\">\n",
              "      <th></th>\n",
              "      <th>[Name]</th>\n",
              "    </tr>\n",
              "  </thead>\n",
              "  <tbody>\n",
              "    <tr>\n",
              "      <th>0</th>\n",
              "      <td>Momentum and Mass: Plot Coordinates for RMS P-...</td>\n",
              "    </tr>\n",
              "    <tr>\n",
              "      <th>1</th>\n",
              "      <td>[Data]</td>\n",
              "    </tr>\n",
              "    <tr>\n",
              "      <th>2</th>\n",
              "      <td>X Value,\"Y Value\"</td>\n",
              "    </tr>\n",
              "    <tr>\n",
              "      <th>3</th>\n",
              "      <td>1.00000000e+00,6.98737893e-03</td>\n",
              "    </tr>\n",
              "    <tr>\n",
              "      <th>4</th>\n",
              "      <td>2.00000000e+00,2.08592042e-03</td>\n",
              "    </tr>\n",
              "    <tr>\n",
              "      <th>...</th>\n",
              "      <td>...</td>\n",
              "    </tr>\n",
              "    <tr>\n",
              "      <th>410</th>\n",
              "      <td>9.60000000e+01,1.41987097e-04</td>\n",
              "    </tr>\n",
              "    <tr>\n",
              "      <th>411</th>\n",
              "      <td>9.70000000e+01,1.38051837e-04</td>\n",
              "    </tr>\n",
              "    <tr>\n",
              "      <th>412</th>\n",
              "      <td>9.80000000e+01,1.34618997e-04</td>\n",
              "    </tr>\n",
              "    <tr>\n",
              "      <th>413</th>\n",
              "      <td>9.90000000e+01,1.31175126e-04</td>\n",
              "    </tr>\n",
              "    <tr>\n",
              "      <th>414</th>\n",
              "      <td>1.00000000e+02,1.27789710e-04</td>\n",
              "    </tr>\n",
              "  </tbody>\n",
              "</table>\n",
              "<p>415 rows × 1 columns</p>\n",
              "</div>\n",
              "      <button class=\"colab-df-convert\" onclick=\"convertToInteractive('df-45c72aec-bda2-4846-9fef-67a5c3d71019')\"\n",
              "              title=\"Convert this dataframe to an interactive table.\"\n",
              "              style=\"display:none;\">\n",
              "        \n",
              "  <svg xmlns=\"http://www.w3.org/2000/svg\" height=\"24px\"viewBox=\"0 0 24 24\"\n",
              "       width=\"24px\">\n",
              "    <path d=\"M0 0h24v24H0V0z\" fill=\"none\"/>\n",
              "    <path d=\"M18.56 5.44l.94 2.06.94-2.06 2.06-.94-2.06-.94-.94-2.06-.94 2.06-2.06.94zm-11 1L8.5 8.5l.94-2.06 2.06-.94-2.06-.94L8.5 2.5l-.94 2.06-2.06.94zm10 10l.94 2.06.94-2.06 2.06-.94-2.06-.94-.94-2.06-.94 2.06-2.06.94z\"/><path d=\"M17.41 7.96l-1.37-1.37c-.4-.4-.92-.59-1.43-.59-.52 0-1.04.2-1.43.59L10.3 9.45l-7.72 7.72c-.78.78-.78 2.05 0 2.83L4 21.41c.39.39.9.59 1.41.59.51 0 1.02-.2 1.41-.59l7.78-7.78 2.81-2.81c.8-.78.8-2.07 0-2.86zM5.41 20L4 18.59l7.72-7.72 1.47 1.35L5.41 20z\"/>\n",
              "  </svg>\n",
              "      </button>\n",
              "      \n",
              "  <style>\n",
              "    .colab-df-container {\n",
              "      display:flex;\n",
              "      flex-wrap:wrap;\n",
              "      gap: 12px;\n",
              "    }\n",
              "\n",
              "    .colab-df-convert {\n",
              "      background-color: #E8F0FE;\n",
              "      border: none;\n",
              "      border-radius: 50%;\n",
              "      cursor: pointer;\n",
              "      display: none;\n",
              "      fill: #1967D2;\n",
              "      height: 32px;\n",
              "      padding: 0 0 0 0;\n",
              "      width: 32px;\n",
              "    }\n",
              "\n",
              "    .colab-df-convert:hover {\n",
              "      background-color: #E2EBFA;\n",
              "      box-shadow: 0px 1px 2px rgba(60, 64, 67, 0.3), 0px 1px 3px 1px rgba(60, 64, 67, 0.15);\n",
              "      fill: #174EA6;\n",
              "    }\n",
              "\n",
              "    [theme=dark] .colab-df-convert {\n",
              "      background-color: #3B4455;\n",
              "      fill: #D2E3FC;\n",
              "    }\n",
              "\n",
              "    [theme=dark] .colab-df-convert:hover {\n",
              "      background-color: #434B5C;\n",
              "      box-shadow: 0px 1px 3px 1px rgba(0, 0, 0, 0.15);\n",
              "      filter: drop-shadow(0px 1px 2px rgba(0, 0, 0, 0.3));\n",
              "      fill: #FFFFFF;\n",
              "    }\n",
              "  </style>\n",
              "\n",
              "      <script>\n",
              "        const buttonEl =\n",
              "          document.querySelector('#df-45c72aec-bda2-4846-9fef-67a5c3d71019 button.colab-df-convert');\n",
              "        buttonEl.style.display =\n",
              "          google.colab.kernel.accessAllowed ? 'block' : 'none';\n",
              "\n",
              "        async function convertToInteractive(key) {\n",
              "          const element = document.querySelector('#df-45c72aec-bda2-4846-9fef-67a5c3d71019');\n",
              "          const dataTable =\n",
              "            await google.colab.kernel.invokeFunction('convertToInteractive',\n",
              "                                                     [key], {});\n",
              "          if (!dataTable) return;\n",
              "\n",
              "          const docLinkHtml = 'Like what you see? Visit the ' +\n",
              "            '<a target=\"_blank\" href=https://colab.research.google.com/notebooks/data_table.ipynb>data table notebook</a>'\n",
              "            + ' to learn more about interactive tables.';\n",
              "          element.innerHTML = '';\n",
              "          dataTable['output_type'] = 'display_data';\n",
              "          await google.colab.output.renderOutput(dataTable, element);\n",
              "          const docLink = document.createElement('div');\n",
              "          docLink.innerHTML = docLinkHtml;\n",
              "          element.appendChild(docLink);\n",
              "        }\n",
              "      </script>\n",
              "    </div>\n",
              "  </div>\n",
              "  "
            ]
          },
          "metadata": {},
          "execution_count": 18
        }
      ]
    },
    {
      "cell_type": "code",
      "source": [
        "df2_tr_e"
      ],
      "metadata": {
        "id": "PECyq29Zg7dI",
        "colab": {
          "base_uri": "https://localhost:8080/",
          "height": 424
        },
        "outputId": "5e3036a3-d39c-4b78-b237-cc2d486b36d4"
      },
      "execution_count": null,
      "outputs": [
        {
          "output_type": "execute_result",
          "data": {
            "text/plain": [
              "                                                [Name]\n",
              "0    TurbKE and TurbFreq Quantities: Plot Coordinat...\n",
              "1                                               [Data]\n",
              "2                                    X Value,\"Y Value\"\n",
              "3                        1.00000000e+00,1.01353846e-01\n",
              "4                        2.00000000e+00,1.04360599e-02\n",
              "..                                                 ...\n",
              "202                      9.60000000e+01,4.08105143e-06\n",
              "203                      9.70000000e+01,3.90745390e-06\n",
              "204                      9.80000000e+01,3.74986280e-06\n",
              "205                      9.90000000e+01,3.44061914e-06\n",
              "206                      1.00000000e+02,3.07143500e-06\n",
              "\n",
              "[207 rows x 1 columns]"
            ],
            "text/html": [
              "\n",
              "  <div id=\"df-8eca2c8c-07ed-4fb3-89ad-c9066f1d4415\">\n",
              "    <div class=\"colab-df-container\">\n",
              "      <div>\n",
              "<style scoped>\n",
              "    .dataframe tbody tr th:only-of-type {\n",
              "        vertical-align: middle;\n",
              "    }\n",
              "\n",
              "    .dataframe tbody tr th {\n",
              "        vertical-align: top;\n",
              "    }\n",
              "\n",
              "    .dataframe thead th {\n",
              "        text-align: right;\n",
              "    }\n",
              "</style>\n",
              "<table border=\"1\" class=\"dataframe\">\n",
              "  <thead>\n",
              "    <tr style=\"text-align: right;\">\n",
              "      <th></th>\n",
              "      <th>[Name]</th>\n",
              "    </tr>\n",
              "  </thead>\n",
              "  <tbody>\n",
              "    <tr>\n",
              "      <th>0</th>\n",
              "      <td>TurbKE and TurbFreq Quantities: Plot Coordinat...</td>\n",
              "    </tr>\n",
              "    <tr>\n",
              "      <th>1</th>\n",
              "      <td>[Data]</td>\n",
              "    </tr>\n",
              "    <tr>\n",
              "      <th>2</th>\n",
              "      <td>X Value,\"Y Value\"</td>\n",
              "    </tr>\n",
              "    <tr>\n",
              "      <th>3</th>\n",
              "      <td>1.00000000e+00,1.01353846e-01</td>\n",
              "    </tr>\n",
              "    <tr>\n",
              "      <th>4</th>\n",
              "      <td>2.00000000e+00,1.04360599e-02</td>\n",
              "    </tr>\n",
              "    <tr>\n",
              "      <th>...</th>\n",
              "      <td>...</td>\n",
              "    </tr>\n",
              "    <tr>\n",
              "      <th>202</th>\n",
              "      <td>9.60000000e+01,4.08105143e-06</td>\n",
              "    </tr>\n",
              "    <tr>\n",
              "      <th>203</th>\n",
              "      <td>9.70000000e+01,3.90745390e-06</td>\n",
              "    </tr>\n",
              "    <tr>\n",
              "      <th>204</th>\n",
              "      <td>9.80000000e+01,3.74986280e-06</td>\n",
              "    </tr>\n",
              "    <tr>\n",
              "      <th>205</th>\n",
              "      <td>9.90000000e+01,3.44061914e-06</td>\n",
              "    </tr>\n",
              "    <tr>\n",
              "      <th>206</th>\n",
              "      <td>1.00000000e+02,3.07143500e-06</td>\n",
              "    </tr>\n",
              "  </tbody>\n",
              "</table>\n",
              "<p>207 rows × 1 columns</p>\n",
              "</div>\n",
              "      <button class=\"colab-df-convert\" onclick=\"convertToInteractive('df-8eca2c8c-07ed-4fb3-89ad-c9066f1d4415')\"\n",
              "              title=\"Convert this dataframe to an interactive table.\"\n",
              "              style=\"display:none;\">\n",
              "        \n",
              "  <svg xmlns=\"http://www.w3.org/2000/svg\" height=\"24px\"viewBox=\"0 0 24 24\"\n",
              "       width=\"24px\">\n",
              "    <path d=\"M0 0h24v24H0V0z\" fill=\"none\"/>\n",
              "    <path d=\"M18.56 5.44l.94 2.06.94-2.06 2.06-.94-2.06-.94-.94-2.06-.94 2.06-2.06.94zm-11 1L8.5 8.5l.94-2.06 2.06-.94-2.06-.94L8.5 2.5l-.94 2.06-2.06.94zm10 10l.94 2.06.94-2.06 2.06-.94-2.06-.94-.94-2.06-.94 2.06-2.06.94z\"/><path d=\"M17.41 7.96l-1.37-1.37c-.4-.4-.92-.59-1.43-.59-.52 0-1.04.2-1.43.59L10.3 9.45l-7.72 7.72c-.78.78-.78 2.05 0 2.83L4 21.41c.39.39.9.59 1.41.59.51 0 1.02-.2 1.41-.59l7.78-7.78 2.81-2.81c.8-.78.8-2.07 0-2.86zM5.41 20L4 18.59l7.72-7.72 1.47 1.35L5.41 20z\"/>\n",
              "  </svg>\n",
              "      </button>\n",
              "      \n",
              "  <style>\n",
              "    .colab-df-container {\n",
              "      display:flex;\n",
              "      flex-wrap:wrap;\n",
              "      gap: 12px;\n",
              "    }\n",
              "\n",
              "    .colab-df-convert {\n",
              "      background-color: #E8F0FE;\n",
              "      border: none;\n",
              "      border-radius: 50%;\n",
              "      cursor: pointer;\n",
              "      display: none;\n",
              "      fill: #1967D2;\n",
              "      height: 32px;\n",
              "      padding: 0 0 0 0;\n",
              "      width: 32px;\n",
              "    }\n",
              "\n",
              "    .colab-df-convert:hover {\n",
              "      background-color: #E2EBFA;\n",
              "      box-shadow: 0px 1px 2px rgba(60, 64, 67, 0.3), 0px 1px 3px 1px rgba(60, 64, 67, 0.15);\n",
              "      fill: #174EA6;\n",
              "    }\n",
              "\n",
              "    [theme=dark] .colab-df-convert {\n",
              "      background-color: #3B4455;\n",
              "      fill: #D2E3FC;\n",
              "    }\n",
              "\n",
              "    [theme=dark] .colab-df-convert:hover {\n",
              "      background-color: #434B5C;\n",
              "      box-shadow: 0px 1px 3px 1px rgba(0, 0, 0, 0.15);\n",
              "      filter: drop-shadow(0px 1px 2px rgba(0, 0, 0, 0.3));\n",
              "      fill: #FFFFFF;\n",
              "    }\n",
              "  </style>\n",
              "\n",
              "      <script>\n",
              "        const buttonEl =\n",
              "          document.querySelector('#df-8eca2c8c-07ed-4fb3-89ad-c9066f1d4415 button.colab-df-convert');\n",
              "        buttonEl.style.display =\n",
              "          google.colab.kernel.accessAllowed ? 'block' : 'none';\n",
              "\n",
              "        async function convertToInteractive(key) {\n",
              "          const element = document.querySelector('#df-8eca2c8c-07ed-4fb3-89ad-c9066f1d4415');\n",
              "          const dataTable =\n",
              "            await google.colab.kernel.invokeFunction('convertToInteractive',\n",
              "                                                     [key], {});\n",
              "          if (!dataTable) return;\n",
              "\n",
              "          const docLinkHtml = 'Like what you see? Visit the ' +\n",
              "            '<a target=\"_blank\" href=https://colab.research.google.com/notebooks/data_table.ipynb>data table notebook</a>'\n",
              "            + ' to learn more about interactive tables.';\n",
              "          element.innerHTML = '';\n",
              "          dataTable['output_type'] = 'display_data';\n",
              "          await google.colab.output.renderOutput(dataTable, element);\n",
              "          const docLink = document.createElement('div');\n",
              "          docLink.innerHTML = docLinkHtml;\n",
              "          element.appendChild(docLink);\n",
              "        }\n",
              "      </script>\n",
              "    </div>\n",
              "  </div>\n",
              "  "
            ]
          },
          "metadata": {},
          "execution_count": 19
        }
      ]
    },
    {
      "cell_type": "markdown",
      "source": [
        ""
      ],
      "metadata": {
        "id": "b2zcTi0PkywD"
      }
    },
    {
      "cell_type": "code",
      "source": [
        "df3_tr_e"
      ],
      "metadata": {
        "id": "q7Xpb3p8g7RM",
        "colab": {
          "base_uri": "https://localhost:8080/",
          "height": 424
        },
        "outputId": "97c85838-3150-45e7-93ca-e6a546b4a335"
      },
      "execution_count": null,
      "outputs": [
        {
          "output_type": "execute_result",
          "data": {
            "text/plain": [
              "                                                [Name]\n",
              "0    Heat Transfer: Plot Coordinates for RMS H-Ener...\n",
              "1                                               [Data]\n",
              "2                                    X Value,\"Y Value\"\n",
              "3                        1.00000000e+00,3.42032732e-03\n",
              "4                        2.00000000e+00,4.73188376e-03\n",
              "..                                                 ...\n",
              "98                       9.60000000e+01,1.69647130e-04\n",
              "99                       9.70000000e+01,1.68059414e-04\n",
              "100                      9.80000000e+01,1.64689511e-04\n",
              "101                      9.90000000e+01,1.59167961e-04\n",
              "102                      1.00000000e+02,1.53179790e-04\n",
              "\n",
              "[103 rows x 1 columns]"
            ],
            "text/html": [
              "\n",
              "  <div id=\"df-c2213812-2a00-406b-abf2-6e3b62891702\">\n",
              "    <div class=\"colab-df-container\">\n",
              "      <div>\n",
              "<style scoped>\n",
              "    .dataframe tbody tr th:only-of-type {\n",
              "        vertical-align: middle;\n",
              "    }\n",
              "\n",
              "    .dataframe tbody tr th {\n",
              "        vertical-align: top;\n",
              "    }\n",
              "\n",
              "    .dataframe thead th {\n",
              "        text-align: right;\n",
              "    }\n",
              "</style>\n",
              "<table border=\"1\" class=\"dataframe\">\n",
              "  <thead>\n",
              "    <tr style=\"text-align: right;\">\n",
              "      <th></th>\n",
              "      <th>[Name]</th>\n",
              "    </tr>\n",
              "  </thead>\n",
              "  <tbody>\n",
              "    <tr>\n",
              "      <th>0</th>\n",
              "      <td>Heat Transfer: Plot Coordinates for RMS H-Ener...</td>\n",
              "    </tr>\n",
              "    <tr>\n",
              "      <th>1</th>\n",
              "      <td>[Data]</td>\n",
              "    </tr>\n",
              "    <tr>\n",
              "      <th>2</th>\n",
              "      <td>X Value,\"Y Value\"</td>\n",
              "    </tr>\n",
              "    <tr>\n",
              "      <th>3</th>\n",
              "      <td>1.00000000e+00,3.42032732e-03</td>\n",
              "    </tr>\n",
              "    <tr>\n",
              "      <th>4</th>\n",
              "      <td>2.00000000e+00,4.73188376e-03</td>\n",
              "    </tr>\n",
              "    <tr>\n",
              "      <th>...</th>\n",
              "      <td>...</td>\n",
              "    </tr>\n",
              "    <tr>\n",
              "      <th>98</th>\n",
              "      <td>9.60000000e+01,1.69647130e-04</td>\n",
              "    </tr>\n",
              "    <tr>\n",
              "      <th>99</th>\n",
              "      <td>9.70000000e+01,1.68059414e-04</td>\n",
              "    </tr>\n",
              "    <tr>\n",
              "      <th>100</th>\n",
              "      <td>9.80000000e+01,1.64689511e-04</td>\n",
              "    </tr>\n",
              "    <tr>\n",
              "      <th>101</th>\n",
              "      <td>9.90000000e+01,1.59167961e-04</td>\n",
              "    </tr>\n",
              "    <tr>\n",
              "      <th>102</th>\n",
              "      <td>1.00000000e+02,1.53179790e-04</td>\n",
              "    </tr>\n",
              "  </tbody>\n",
              "</table>\n",
              "<p>103 rows × 1 columns</p>\n",
              "</div>\n",
              "      <button class=\"colab-df-convert\" onclick=\"convertToInteractive('df-c2213812-2a00-406b-abf2-6e3b62891702')\"\n",
              "              title=\"Convert this dataframe to an interactive table.\"\n",
              "              style=\"display:none;\">\n",
              "        \n",
              "  <svg xmlns=\"http://www.w3.org/2000/svg\" height=\"24px\"viewBox=\"0 0 24 24\"\n",
              "       width=\"24px\">\n",
              "    <path d=\"M0 0h24v24H0V0z\" fill=\"none\"/>\n",
              "    <path d=\"M18.56 5.44l.94 2.06.94-2.06 2.06-.94-2.06-.94-.94-2.06-.94 2.06-2.06.94zm-11 1L8.5 8.5l.94-2.06 2.06-.94-2.06-.94L8.5 2.5l-.94 2.06-2.06.94zm10 10l.94 2.06.94-2.06 2.06-.94-2.06-.94-.94-2.06-.94 2.06-2.06.94z\"/><path d=\"M17.41 7.96l-1.37-1.37c-.4-.4-.92-.59-1.43-.59-.52 0-1.04.2-1.43.59L10.3 9.45l-7.72 7.72c-.78.78-.78 2.05 0 2.83L4 21.41c.39.39.9.59 1.41.59.51 0 1.02-.2 1.41-.59l7.78-7.78 2.81-2.81c.8-.78.8-2.07 0-2.86zM5.41 20L4 18.59l7.72-7.72 1.47 1.35L5.41 20z\"/>\n",
              "  </svg>\n",
              "      </button>\n",
              "      \n",
              "  <style>\n",
              "    .colab-df-container {\n",
              "      display:flex;\n",
              "      flex-wrap:wrap;\n",
              "      gap: 12px;\n",
              "    }\n",
              "\n",
              "    .colab-df-convert {\n",
              "      background-color: #E8F0FE;\n",
              "      border: none;\n",
              "      border-radius: 50%;\n",
              "      cursor: pointer;\n",
              "      display: none;\n",
              "      fill: #1967D2;\n",
              "      height: 32px;\n",
              "      padding: 0 0 0 0;\n",
              "      width: 32px;\n",
              "    }\n",
              "\n",
              "    .colab-df-convert:hover {\n",
              "      background-color: #E2EBFA;\n",
              "      box-shadow: 0px 1px 2px rgba(60, 64, 67, 0.3), 0px 1px 3px 1px rgba(60, 64, 67, 0.15);\n",
              "      fill: #174EA6;\n",
              "    }\n",
              "\n",
              "    [theme=dark] .colab-df-convert {\n",
              "      background-color: #3B4455;\n",
              "      fill: #D2E3FC;\n",
              "    }\n",
              "\n",
              "    [theme=dark] .colab-df-convert:hover {\n",
              "      background-color: #434B5C;\n",
              "      box-shadow: 0px 1px 3px 1px rgba(0, 0, 0, 0.15);\n",
              "      filter: drop-shadow(0px 1px 2px rgba(0, 0, 0, 0.3));\n",
              "      fill: #FFFFFF;\n",
              "    }\n",
              "  </style>\n",
              "\n",
              "      <script>\n",
              "        const buttonEl =\n",
              "          document.querySelector('#df-c2213812-2a00-406b-abf2-6e3b62891702 button.colab-df-convert');\n",
              "        buttonEl.style.display =\n",
              "          google.colab.kernel.accessAllowed ? 'block' : 'none';\n",
              "\n",
              "        async function convertToInteractive(key) {\n",
              "          const element = document.querySelector('#df-c2213812-2a00-406b-abf2-6e3b62891702');\n",
              "          const dataTable =\n",
              "            await google.colab.kernel.invokeFunction('convertToInteractive',\n",
              "                                                     [key], {});\n",
              "          if (!dataTable) return;\n",
              "\n",
              "          const docLinkHtml = 'Like what you see? Visit the ' +\n",
              "            '<a target=\"_blank\" href=https://colab.research.google.com/notebooks/data_table.ipynb>data table notebook</a>'\n",
              "            + ' to learn more about interactive tables.';\n",
              "          element.innerHTML = '';\n",
              "          dataTable['output_type'] = 'display_data';\n",
              "          await google.colab.output.renderOutput(dataTable, element);\n",
              "          const docLink = document.createElement('div');\n",
              "          docLink.innerHTML = docLinkHtml;\n",
              "          element.appendChild(docLink);\n",
              "        }\n",
              "      </script>\n",
              "    </div>\n",
              "  </div>\n",
              "  "
            ]
          },
          "metadata": {},
          "execution_count": 20
        }
      ]
    },
    {
      "cell_type": "code",
      "source": [
        "df4_tr_e"
      ],
      "metadata": {
        "id": "PAW3MHSxg7Ia",
        "colab": {
          "base_uri": "https://localhost:8080/",
          "height": 426
        },
        "outputId": "4e75f774-2cc6-4e34-8002-7e5396f581b5"
      },
      "execution_count": null,
      "outputs": [
        {
          "output_type": "execute_result",
          "data": {
            "text/plain": [
              "                                               [Name]\n",
              "0   Wall Scale: Plot Coordinates for RMS Wallscale...\n",
              "1                                              [Data]\n",
              "2                                   X Value,\"Y Value\"\n",
              "3                       1.00000000e+00,1.57535382e-04\n",
              "4                       2.00000000e+00,6.08169648e-04\n",
              "5                       3.00000000e+00,2.13415464e-04\n",
              "6                       4.00000000e+00,1.08551743e-04\n",
              "7                       5.00000000e+00,5.88008224e-05\n",
              "8                       6.00000000e+00,2.99757630e-05\n",
              "9                       7.00000000e+00,1.56720253e-05\n",
              "10                      8.00000000e+00,8.31955731e-06\n",
              "11                      9.00000000e+00,4.45787191e-06"
            ],
            "text/html": [
              "\n",
              "  <div id=\"df-a28a672b-a301-46f2-b19c-790d10bf1fd6\">\n",
              "    <div class=\"colab-df-container\">\n",
              "      <div>\n",
              "<style scoped>\n",
              "    .dataframe tbody tr th:only-of-type {\n",
              "        vertical-align: middle;\n",
              "    }\n",
              "\n",
              "    .dataframe tbody tr th {\n",
              "        vertical-align: top;\n",
              "    }\n",
              "\n",
              "    .dataframe thead th {\n",
              "        text-align: right;\n",
              "    }\n",
              "</style>\n",
              "<table border=\"1\" class=\"dataframe\">\n",
              "  <thead>\n",
              "    <tr style=\"text-align: right;\">\n",
              "      <th></th>\n",
              "      <th>[Name]</th>\n",
              "    </tr>\n",
              "  </thead>\n",
              "  <tbody>\n",
              "    <tr>\n",
              "      <th>0</th>\n",
              "      <td>Wall Scale: Plot Coordinates for RMS Wallscale...</td>\n",
              "    </tr>\n",
              "    <tr>\n",
              "      <th>1</th>\n",
              "      <td>[Data]</td>\n",
              "    </tr>\n",
              "    <tr>\n",
              "      <th>2</th>\n",
              "      <td>X Value,\"Y Value\"</td>\n",
              "    </tr>\n",
              "    <tr>\n",
              "      <th>3</th>\n",
              "      <td>1.00000000e+00,1.57535382e-04</td>\n",
              "    </tr>\n",
              "    <tr>\n",
              "      <th>4</th>\n",
              "      <td>2.00000000e+00,6.08169648e-04</td>\n",
              "    </tr>\n",
              "    <tr>\n",
              "      <th>5</th>\n",
              "      <td>3.00000000e+00,2.13415464e-04</td>\n",
              "    </tr>\n",
              "    <tr>\n",
              "      <th>6</th>\n",
              "      <td>4.00000000e+00,1.08551743e-04</td>\n",
              "    </tr>\n",
              "    <tr>\n",
              "      <th>7</th>\n",
              "      <td>5.00000000e+00,5.88008224e-05</td>\n",
              "    </tr>\n",
              "    <tr>\n",
              "      <th>8</th>\n",
              "      <td>6.00000000e+00,2.99757630e-05</td>\n",
              "    </tr>\n",
              "    <tr>\n",
              "      <th>9</th>\n",
              "      <td>7.00000000e+00,1.56720253e-05</td>\n",
              "    </tr>\n",
              "    <tr>\n",
              "      <th>10</th>\n",
              "      <td>8.00000000e+00,8.31955731e-06</td>\n",
              "    </tr>\n",
              "    <tr>\n",
              "      <th>11</th>\n",
              "      <td>9.00000000e+00,4.45787191e-06</td>\n",
              "    </tr>\n",
              "  </tbody>\n",
              "</table>\n",
              "</div>\n",
              "      <button class=\"colab-df-convert\" onclick=\"convertToInteractive('df-a28a672b-a301-46f2-b19c-790d10bf1fd6')\"\n",
              "              title=\"Convert this dataframe to an interactive table.\"\n",
              "              style=\"display:none;\">\n",
              "        \n",
              "  <svg xmlns=\"http://www.w3.org/2000/svg\" height=\"24px\"viewBox=\"0 0 24 24\"\n",
              "       width=\"24px\">\n",
              "    <path d=\"M0 0h24v24H0V0z\" fill=\"none\"/>\n",
              "    <path d=\"M18.56 5.44l.94 2.06.94-2.06 2.06-.94-2.06-.94-.94-2.06-.94 2.06-2.06.94zm-11 1L8.5 8.5l.94-2.06 2.06-.94-2.06-.94L8.5 2.5l-.94 2.06-2.06.94zm10 10l.94 2.06.94-2.06 2.06-.94-2.06-.94-.94-2.06-.94 2.06-2.06.94z\"/><path d=\"M17.41 7.96l-1.37-1.37c-.4-.4-.92-.59-1.43-.59-.52 0-1.04.2-1.43.59L10.3 9.45l-7.72 7.72c-.78.78-.78 2.05 0 2.83L4 21.41c.39.39.9.59 1.41.59.51 0 1.02-.2 1.41-.59l7.78-7.78 2.81-2.81c.8-.78.8-2.07 0-2.86zM5.41 20L4 18.59l7.72-7.72 1.47 1.35L5.41 20z\"/>\n",
              "  </svg>\n",
              "      </button>\n",
              "      \n",
              "  <style>\n",
              "    .colab-df-container {\n",
              "      display:flex;\n",
              "      flex-wrap:wrap;\n",
              "      gap: 12px;\n",
              "    }\n",
              "\n",
              "    .colab-df-convert {\n",
              "      background-color: #E8F0FE;\n",
              "      border: none;\n",
              "      border-radius: 50%;\n",
              "      cursor: pointer;\n",
              "      display: none;\n",
              "      fill: #1967D2;\n",
              "      height: 32px;\n",
              "      padding: 0 0 0 0;\n",
              "      width: 32px;\n",
              "    }\n",
              "\n",
              "    .colab-df-convert:hover {\n",
              "      background-color: #E2EBFA;\n",
              "      box-shadow: 0px 1px 2px rgba(60, 64, 67, 0.3), 0px 1px 3px 1px rgba(60, 64, 67, 0.15);\n",
              "      fill: #174EA6;\n",
              "    }\n",
              "\n",
              "    [theme=dark] .colab-df-convert {\n",
              "      background-color: #3B4455;\n",
              "      fill: #D2E3FC;\n",
              "    }\n",
              "\n",
              "    [theme=dark] .colab-df-convert:hover {\n",
              "      background-color: #434B5C;\n",
              "      box-shadow: 0px 1px 3px 1px rgba(0, 0, 0, 0.15);\n",
              "      filter: drop-shadow(0px 1px 2px rgba(0, 0, 0, 0.3));\n",
              "      fill: #FFFFFF;\n",
              "    }\n",
              "  </style>\n",
              "\n",
              "      <script>\n",
              "        const buttonEl =\n",
              "          document.querySelector('#df-a28a672b-a301-46f2-b19c-790d10bf1fd6 button.colab-df-convert');\n",
              "        buttonEl.style.display =\n",
              "          google.colab.kernel.accessAllowed ? 'block' : 'none';\n",
              "\n",
              "        async function convertToInteractive(key) {\n",
              "          const element = document.querySelector('#df-a28a672b-a301-46f2-b19c-790d10bf1fd6');\n",
              "          const dataTable =\n",
              "            await google.colab.kernel.invokeFunction('convertToInteractive',\n",
              "                                                     [key], {});\n",
              "          if (!dataTable) return;\n",
              "\n",
              "          const docLinkHtml = 'Like what you see? Visit the ' +\n",
              "            '<a target=\"_blank\" href=https://colab.research.google.com/notebooks/data_table.ipynb>data table notebook</a>'\n",
              "            + ' to learn more about interactive tables.';\n",
              "          element.innerHTML = '';\n",
              "          dataTable['output_type'] = 'display_data';\n",
              "          await google.colab.output.renderOutput(dataTable, element);\n",
              "          const docLink = document.createElement('div');\n",
              "          docLink.innerHTML = docLinkHtml;\n",
              "          element.appendChild(docLink);\n",
              "        }\n",
              "      </script>\n",
              "    </div>\n",
              "  </div>\n",
              "  "
            ]
          },
          "metadata": {},
          "execution_count": 21
        }
      ]
    },
    {
      "cell_type": "code",
      "source": [
        "df5_tr_e"
      ],
      "metadata": {
        "id": "3KORvQa6g7A4",
        "colab": {
          "base_uri": "https://localhost:8080/",
          "height": 424
        },
        "outputId": "8fd548f3-a4f5-4ae5-e57c-a22d4bfb3d1a"
      },
      "execution_count": null,
      "outputs": [
        {
          "output_type": "execute_result",
          "data": {
            "text/plain": [
              "                                                [Name]\n",
              "0                                    Momentum and Mass\n",
              "1                                               [Data]\n",
              "2    Accumulated Timestep,\"RMS P-Mass\",\"RMS U-Mom\",...\n",
              "3    1,6.98737893e-03,7.68739410e-05,1.15971707e-04...\n",
              "4    2,2.08592042e-03,4.62088827e-03,3.63509869e-03...\n",
              "..                                                 ...\n",
              "98   96,9.73212309e-07,8.16575921e-05,6.27694462e-0...\n",
              "99   97,9.57709744e-07,7.84386939e-05,5.94070807e-0...\n",
              "100  98,9.36568881e-07,7.66158482e-05,5.60591761e-0...\n",
              "101  99,9.07788831e-07,7.59156756e-05,5.33208113e-0...\n",
              "102  100,8.73745648e-07,7.46915393e-05,5.08259727e-...\n",
              "\n",
              "[103 rows x 1 columns]"
            ],
            "text/html": [
              "\n",
              "  <div id=\"df-be1cd03a-7552-4c57-802a-d696c2c0b13a\">\n",
              "    <div class=\"colab-df-container\">\n",
              "      <div>\n",
              "<style scoped>\n",
              "    .dataframe tbody tr th:only-of-type {\n",
              "        vertical-align: middle;\n",
              "    }\n",
              "\n",
              "    .dataframe tbody tr th {\n",
              "        vertical-align: top;\n",
              "    }\n",
              "\n",
              "    .dataframe thead th {\n",
              "        text-align: right;\n",
              "    }\n",
              "</style>\n",
              "<table border=\"1\" class=\"dataframe\">\n",
              "  <thead>\n",
              "    <tr style=\"text-align: right;\">\n",
              "      <th></th>\n",
              "      <th>[Name]</th>\n",
              "    </tr>\n",
              "  </thead>\n",
              "  <tbody>\n",
              "    <tr>\n",
              "      <th>0</th>\n",
              "      <td>Momentum and Mass</td>\n",
              "    </tr>\n",
              "    <tr>\n",
              "      <th>1</th>\n",
              "      <td>[Data]</td>\n",
              "    </tr>\n",
              "    <tr>\n",
              "      <th>2</th>\n",
              "      <td>Accumulated Timestep,\"RMS P-Mass\",\"RMS U-Mom\",...</td>\n",
              "    </tr>\n",
              "    <tr>\n",
              "      <th>3</th>\n",
              "      <td>1,6.98737893e-03,7.68739410e-05,1.15971707e-04...</td>\n",
              "    </tr>\n",
              "    <tr>\n",
              "      <th>4</th>\n",
              "      <td>2,2.08592042e-03,4.62088827e-03,3.63509869e-03...</td>\n",
              "    </tr>\n",
              "    <tr>\n",
              "      <th>...</th>\n",
              "      <td>...</td>\n",
              "    </tr>\n",
              "    <tr>\n",
              "      <th>98</th>\n",
              "      <td>96,9.73212309e-07,8.16575921e-05,6.27694462e-0...</td>\n",
              "    </tr>\n",
              "    <tr>\n",
              "      <th>99</th>\n",
              "      <td>97,9.57709744e-07,7.84386939e-05,5.94070807e-0...</td>\n",
              "    </tr>\n",
              "    <tr>\n",
              "      <th>100</th>\n",
              "      <td>98,9.36568881e-07,7.66158482e-05,5.60591761e-0...</td>\n",
              "    </tr>\n",
              "    <tr>\n",
              "      <th>101</th>\n",
              "      <td>99,9.07788831e-07,7.59156756e-05,5.33208113e-0...</td>\n",
              "    </tr>\n",
              "    <tr>\n",
              "      <th>102</th>\n",
              "      <td>100,8.73745648e-07,7.46915393e-05,5.08259727e-...</td>\n",
              "    </tr>\n",
              "  </tbody>\n",
              "</table>\n",
              "<p>103 rows × 1 columns</p>\n",
              "</div>\n",
              "      <button class=\"colab-df-convert\" onclick=\"convertToInteractive('df-be1cd03a-7552-4c57-802a-d696c2c0b13a')\"\n",
              "              title=\"Convert this dataframe to an interactive table.\"\n",
              "              style=\"display:none;\">\n",
              "        \n",
              "  <svg xmlns=\"http://www.w3.org/2000/svg\" height=\"24px\"viewBox=\"0 0 24 24\"\n",
              "       width=\"24px\">\n",
              "    <path d=\"M0 0h24v24H0V0z\" fill=\"none\"/>\n",
              "    <path d=\"M18.56 5.44l.94 2.06.94-2.06 2.06-.94-2.06-.94-.94-2.06-.94 2.06-2.06.94zm-11 1L8.5 8.5l.94-2.06 2.06-.94-2.06-.94L8.5 2.5l-.94 2.06-2.06.94zm10 10l.94 2.06.94-2.06 2.06-.94-2.06-.94-.94-2.06-.94 2.06-2.06.94z\"/><path d=\"M17.41 7.96l-1.37-1.37c-.4-.4-.92-.59-1.43-.59-.52 0-1.04.2-1.43.59L10.3 9.45l-7.72 7.72c-.78.78-.78 2.05 0 2.83L4 21.41c.39.39.9.59 1.41.59.51 0 1.02-.2 1.41-.59l7.78-7.78 2.81-2.81c.8-.78.8-2.07 0-2.86zM5.41 20L4 18.59l7.72-7.72 1.47 1.35L5.41 20z\"/>\n",
              "  </svg>\n",
              "      </button>\n",
              "      \n",
              "  <style>\n",
              "    .colab-df-container {\n",
              "      display:flex;\n",
              "      flex-wrap:wrap;\n",
              "      gap: 12px;\n",
              "    }\n",
              "\n",
              "    .colab-df-convert {\n",
              "      background-color: #E8F0FE;\n",
              "      border: none;\n",
              "      border-radius: 50%;\n",
              "      cursor: pointer;\n",
              "      display: none;\n",
              "      fill: #1967D2;\n",
              "      height: 32px;\n",
              "      padding: 0 0 0 0;\n",
              "      width: 32px;\n",
              "    }\n",
              "\n",
              "    .colab-df-convert:hover {\n",
              "      background-color: #E2EBFA;\n",
              "      box-shadow: 0px 1px 2px rgba(60, 64, 67, 0.3), 0px 1px 3px 1px rgba(60, 64, 67, 0.15);\n",
              "      fill: #174EA6;\n",
              "    }\n",
              "\n",
              "    [theme=dark] .colab-df-convert {\n",
              "      background-color: #3B4455;\n",
              "      fill: #D2E3FC;\n",
              "    }\n",
              "\n",
              "    [theme=dark] .colab-df-convert:hover {\n",
              "      background-color: #434B5C;\n",
              "      box-shadow: 0px 1px 3px 1px rgba(0, 0, 0, 0.15);\n",
              "      filter: drop-shadow(0px 1px 2px rgba(0, 0, 0, 0.3));\n",
              "      fill: #FFFFFF;\n",
              "    }\n",
              "  </style>\n",
              "\n",
              "      <script>\n",
              "        const buttonEl =\n",
              "          document.querySelector('#df-be1cd03a-7552-4c57-802a-d696c2c0b13a button.colab-df-convert');\n",
              "        buttonEl.style.display =\n",
              "          google.colab.kernel.accessAllowed ? 'block' : 'none';\n",
              "\n",
              "        async function convertToInteractive(key) {\n",
              "          const element = document.querySelector('#df-be1cd03a-7552-4c57-802a-d696c2c0b13a');\n",
              "          const dataTable =\n",
              "            await google.colab.kernel.invokeFunction('convertToInteractive',\n",
              "                                                     [key], {});\n",
              "          if (!dataTable) return;\n",
              "\n",
              "          const docLinkHtml = 'Like what you see? Visit the ' +\n",
              "            '<a target=\"_blank\" href=https://colab.research.google.com/notebooks/data_table.ipynb>data table notebook</a>'\n",
              "            + ' to learn more about interactive tables.';\n",
              "          element.innerHTML = '';\n",
              "          dataTable['output_type'] = 'display_data';\n",
              "          await google.colab.output.renderOutput(dataTable, element);\n",
              "          const docLink = document.createElement('div');\n",
              "          docLink.innerHTML = docLinkHtml;\n",
              "          element.appendChild(docLink);\n",
              "        }\n",
              "      </script>\n",
              "    </div>\n",
              "  </div>\n",
              "  "
            ]
          },
          "metadata": {},
          "execution_count": 24
        }
      ]
    },
    {
      "cell_type": "code",
      "source": [
        "df6_tr_e"
      ],
      "metadata": {
        "id": "mP4FQ7Nvg650",
        "colab": {
          "base_uri": "https://localhost:8080/",
          "height": 424
        },
        "outputId": "b253badf-c3a3-4d0f-9ecd-824d77b67d5e"
      },
      "execution_count": null,
      "outputs": [
        {
          "output_type": "execute_result",
          "data": {
            "text/plain": [
              "                                                [Name]\n",
              "0                       TurbKE and TurbFreq Quantities\n",
              "1                                               [Data]\n",
              "2    Accumulated Timestep,\"RMS K-TurbKE\",\"RMS O-Tur...\n",
              "3                      1,1.01353846e-01,7.95210153e-03\n",
              "4                      2,1.04360599e-02,7.53730128e-04\n",
              "..                                                 ...\n",
              "98                    96,1.56589813e-05,4.08105143e-06\n",
              "99                    97,1.51826553e-05,3.90745390e-06\n",
              "100                   98,1.46604134e-05,3.74986280e-06\n",
              "101                   99,1.41598321e-05,3.44061914e-06\n",
              "102                  100,1.36706121e-05,3.07143500e-06\n",
              "\n",
              "[103 rows x 1 columns]"
            ],
            "text/html": [
              "\n",
              "  <div id=\"df-8220d44c-9b59-435f-9434-3af8031b64f4\">\n",
              "    <div class=\"colab-df-container\">\n",
              "      <div>\n",
              "<style scoped>\n",
              "    .dataframe tbody tr th:only-of-type {\n",
              "        vertical-align: middle;\n",
              "    }\n",
              "\n",
              "    .dataframe tbody tr th {\n",
              "        vertical-align: top;\n",
              "    }\n",
              "\n",
              "    .dataframe thead th {\n",
              "        text-align: right;\n",
              "    }\n",
              "</style>\n",
              "<table border=\"1\" class=\"dataframe\">\n",
              "  <thead>\n",
              "    <tr style=\"text-align: right;\">\n",
              "      <th></th>\n",
              "      <th>[Name]</th>\n",
              "    </tr>\n",
              "  </thead>\n",
              "  <tbody>\n",
              "    <tr>\n",
              "      <th>0</th>\n",
              "      <td>TurbKE and TurbFreq Quantities</td>\n",
              "    </tr>\n",
              "    <tr>\n",
              "      <th>1</th>\n",
              "      <td>[Data]</td>\n",
              "    </tr>\n",
              "    <tr>\n",
              "      <th>2</th>\n",
              "      <td>Accumulated Timestep,\"RMS K-TurbKE\",\"RMS O-Tur...</td>\n",
              "    </tr>\n",
              "    <tr>\n",
              "      <th>3</th>\n",
              "      <td>1,1.01353846e-01,7.95210153e-03</td>\n",
              "    </tr>\n",
              "    <tr>\n",
              "      <th>4</th>\n",
              "      <td>2,1.04360599e-02,7.53730128e-04</td>\n",
              "    </tr>\n",
              "    <tr>\n",
              "      <th>...</th>\n",
              "      <td>...</td>\n",
              "    </tr>\n",
              "    <tr>\n",
              "      <th>98</th>\n",
              "      <td>96,1.56589813e-05,4.08105143e-06</td>\n",
              "    </tr>\n",
              "    <tr>\n",
              "      <th>99</th>\n",
              "      <td>97,1.51826553e-05,3.90745390e-06</td>\n",
              "    </tr>\n",
              "    <tr>\n",
              "      <th>100</th>\n",
              "      <td>98,1.46604134e-05,3.74986280e-06</td>\n",
              "    </tr>\n",
              "    <tr>\n",
              "      <th>101</th>\n",
              "      <td>99,1.41598321e-05,3.44061914e-06</td>\n",
              "    </tr>\n",
              "    <tr>\n",
              "      <th>102</th>\n",
              "      <td>100,1.36706121e-05,3.07143500e-06</td>\n",
              "    </tr>\n",
              "  </tbody>\n",
              "</table>\n",
              "<p>103 rows × 1 columns</p>\n",
              "</div>\n",
              "      <button class=\"colab-df-convert\" onclick=\"convertToInteractive('df-8220d44c-9b59-435f-9434-3af8031b64f4')\"\n",
              "              title=\"Convert this dataframe to an interactive table.\"\n",
              "              style=\"display:none;\">\n",
              "        \n",
              "  <svg xmlns=\"http://www.w3.org/2000/svg\" height=\"24px\"viewBox=\"0 0 24 24\"\n",
              "       width=\"24px\">\n",
              "    <path d=\"M0 0h24v24H0V0z\" fill=\"none\"/>\n",
              "    <path d=\"M18.56 5.44l.94 2.06.94-2.06 2.06-.94-2.06-.94-.94-2.06-.94 2.06-2.06.94zm-11 1L8.5 8.5l.94-2.06 2.06-.94-2.06-.94L8.5 2.5l-.94 2.06-2.06.94zm10 10l.94 2.06.94-2.06 2.06-.94-2.06-.94-.94-2.06-.94 2.06-2.06.94z\"/><path d=\"M17.41 7.96l-1.37-1.37c-.4-.4-.92-.59-1.43-.59-.52 0-1.04.2-1.43.59L10.3 9.45l-7.72 7.72c-.78.78-.78 2.05 0 2.83L4 21.41c.39.39.9.59 1.41.59.51 0 1.02-.2 1.41-.59l7.78-7.78 2.81-2.81c.8-.78.8-2.07 0-2.86zM5.41 20L4 18.59l7.72-7.72 1.47 1.35L5.41 20z\"/>\n",
              "  </svg>\n",
              "      </button>\n",
              "      \n",
              "  <style>\n",
              "    .colab-df-container {\n",
              "      display:flex;\n",
              "      flex-wrap:wrap;\n",
              "      gap: 12px;\n",
              "    }\n",
              "\n",
              "    .colab-df-convert {\n",
              "      background-color: #E8F0FE;\n",
              "      border: none;\n",
              "      border-radius: 50%;\n",
              "      cursor: pointer;\n",
              "      display: none;\n",
              "      fill: #1967D2;\n",
              "      height: 32px;\n",
              "      padding: 0 0 0 0;\n",
              "      width: 32px;\n",
              "    }\n",
              "\n",
              "    .colab-df-convert:hover {\n",
              "      background-color: #E2EBFA;\n",
              "      box-shadow: 0px 1px 2px rgba(60, 64, 67, 0.3), 0px 1px 3px 1px rgba(60, 64, 67, 0.15);\n",
              "      fill: #174EA6;\n",
              "    }\n",
              "\n",
              "    [theme=dark] .colab-df-convert {\n",
              "      background-color: #3B4455;\n",
              "      fill: #D2E3FC;\n",
              "    }\n",
              "\n",
              "    [theme=dark] .colab-df-convert:hover {\n",
              "      background-color: #434B5C;\n",
              "      box-shadow: 0px 1px 3px 1px rgba(0, 0, 0, 0.15);\n",
              "      filter: drop-shadow(0px 1px 2px rgba(0, 0, 0, 0.3));\n",
              "      fill: #FFFFFF;\n",
              "    }\n",
              "  </style>\n",
              "\n",
              "      <script>\n",
              "        const buttonEl =\n",
              "          document.querySelector('#df-8220d44c-9b59-435f-9434-3af8031b64f4 button.colab-df-convert');\n",
              "        buttonEl.style.display =\n",
              "          google.colab.kernel.accessAllowed ? 'block' : 'none';\n",
              "\n",
              "        async function convertToInteractive(key) {\n",
              "          const element = document.querySelector('#df-8220d44c-9b59-435f-9434-3af8031b64f4');\n",
              "          const dataTable =\n",
              "            await google.colab.kernel.invokeFunction('convertToInteractive',\n",
              "                                                     [key], {});\n",
              "          if (!dataTable) return;\n",
              "\n",
              "          const docLinkHtml = 'Like what you see? Visit the ' +\n",
              "            '<a target=\"_blank\" href=https://colab.research.google.com/notebooks/data_table.ipynb>data table notebook</a>'\n",
              "            + ' to learn more about interactive tables.';\n",
              "          element.innerHTML = '';\n",
              "          dataTable['output_type'] = 'display_data';\n",
              "          await google.colab.output.renderOutput(dataTable, element);\n",
              "          const docLink = document.createElement('div');\n",
              "          docLink.innerHTML = docLinkHtml;\n",
              "          element.appendChild(docLink);\n",
              "        }\n",
              "      </script>\n",
              "    </div>\n",
              "  </div>\n",
              "  "
            ]
          },
          "metadata": {},
          "execution_count": 23
        }
      ]
    },
    {
      "cell_type": "code",
      "source": [
        "df7_tr_e"
      ],
      "metadata": {
        "id": "91qCJ0Pcg6wv",
        "colab": {
          "base_uri": "https://localhost:8080/",
          "height": 424
        },
        "outputId": "3e60d66e-3bda-448c-83e3-dff69043a410"
      },
      "execution_count": null,
      "outputs": [
        {
          "output_type": "execute_result",
          "data": {
            "text/plain": [
              "                                  [Name]\n",
              "0                          Heat Transfer\n",
              "1                                 [Data]\n",
              "2    Accumulated Timestep,\"RMS H-Energy\"\n",
              "3                       1,3.42032732e-03\n",
              "4                       2,4.73188376e-03\n",
              "..                                   ...\n",
              "98                     96,1.69647130e-04\n",
              "99                     97,1.68059414e-04\n",
              "100                    98,1.64689511e-04\n",
              "101                    99,1.59167961e-04\n",
              "102                   100,1.53179790e-04\n",
              "\n",
              "[103 rows x 1 columns]"
            ],
            "text/html": [
              "\n",
              "  <div id=\"df-d79fe2cf-874b-42ce-854e-140c79bf9350\">\n",
              "    <div class=\"colab-df-container\">\n",
              "      <div>\n",
              "<style scoped>\n",
              "    .dataframe tbody tr th:only-of-type {\n",
              "        vertical-align: middle;\n",
              "    }\n",
              "\n",
              "    .dataframe tbody tr th {\n",
              "        vertical-align: top;\n",
              "    }\n",
              "\n",
              "    .dataframe thead th {\n",
              "        text-align: right;\n",
              "    }\n",
              "</style>\n",
              "<table border=\"1\" class=\"dataframe\">\n",
              "  <thead>\n",
              "    <tr style=\"text-align: right;\">\n",
              "      <th></th>\n",
              "      <th>[Name]</th>\n",
              "    </tr>\n",
              "  </thead>\n",
              "  <tbody>\n",
              "    <tr>\n",
              "      <th>0</th>\n",
              "      <td>Heat Transfer</td>\n",
              "    </tr>\n",
              "    <tr>\n",
              "      <th>1</th>\n",
              "      <td>[Data]</td>\n",
              "    </tr>\n",
              "    <tr>\n",
              "      <th>2</th>\n",
              "      <td>Accumulated Timestep,\"RMS H-Energy\"</td>\n",
              "    </tr>\n",
              "    <tr>\n",
              "      <th>3</th>\n",
              "      <td>1,3.42032732e-03</td>\n",
              "    </tr>\n",
              "    <tr>\n",
              "      <th>4</th>\n",
              "      <td>2,4.73188376e-03</td>\n",
              "    </tr>\n",
              "    <tr>\n",
              "      <th>...</th>\n",
              "      <td>...</td>\n",
              "    </tr>\n",
              "    <tr>\n",
              "      <th>98</th>\n",
              "      <td>96,1.69647130e-04</td>\n",
              "    </tr>\n",
              "    <tr>\n",
              "      <th>99</th>\n",
              "      <td>97,1.68059414e-04</td>\n",
              "    </tr>\n",
              "    <tr>\n",
              "      <th>100</th>\n",
              "      <td>98,1.64689511e-04</td>\n",
              "    </tr>\n",
              "    <tr>\n",
              "      <th>101</th>\n",
              "      <td>99,1.59167961e-04</td>\n",
              "    </tr>\n",
              "    <tr>\n",
              "      <th>102</th>\n",
              "      <td>100,1.53179790e-04</td>\n",
              "    </tr>\n",
              "  </tbody>\n",
              "</table>\n",
              "<p>103 rows × 1 columns</p>\n",
              "</div>\n",
              "      <button class=\"colab-df-convert\" onclick=\"convertToInteractive('df-d79fe2cf-874b-42ce-854e-140c79bf9350')\"\n",
              "              title=\"Convert this dataframe to an interactive table.\"\n",
              "              style=\"display:none;\">\n",
              "        \n",
              "  <svg xmlns=\"http://www.w3.org/2000/svg\" height=\"24px\"viewBox=\"0 0 24 24\"\n",
              "       width=\"24px\">\n",
              "    <path d=\"M0 0h24v24H0V0z\" fill=\"none\"/>\n",
              "    <path d=\"M18.56 5.44l.94 2.06.94-2.06 2.06-.94-2.06-.94-.94-2.06-.94 2.06-2.06.94zm-11 1L8.5 8.5l.94-2.06 2.06-.94-2.06-.94L8.5 2.5l-.94 2.06-2.06.94zm10 10l.94 2.06.94-2.06 2.06-.94-2.06-.94-.94-2.06-.94 2.06-2.06.94z\"/><path d=\"M17.41 7.96l-1.37-1.37c-.4-.4-.92-.59-1.43-.59-.52 0-1.04.2-1.43.59L10.3 9.45l-7.72 7.72c-.78.78-.78 2.05 0 2.83L4 21.41c.39.39.9.59 1.41.59.51 0 1.02-.2 1.41-.59l7.78-7.78 2.81-2.81c.8-.78.8-2.07 0-2.86zM5.41 20L4 18.59l7.72-7.72 1.47 1.35L5.41 20z\"/>\n",
              "  </svg>\n",
              "      </button>\n",
              "      \n",
              "  <style>\n",
              "    .colab-df-container {\n",
              "      display:flex;\n",
              "      flex-wrap:wrap;\n",
              "      gap: 12px;\n",
              "    }\n",
              "\n",
              "    .colab-df-convert {\n",
              "      background-color: #E8F0FE;\n",
              "      border: none;\n",
              "      border-radius: 50%;\n",
              "      cursor: pointer;\n",
              "      display: none;\n",
              "      fill: #1967D2;\n",
              "      height: 32px;\n",
              "      padding: 0 0 0 0;\n",
              "      width: 32px;\n",
              "    }\n",
              "\n",
              "    .colab-df-convert:hover {\n",
              "      background-color: #E2EBFA;\n",
              "      box-shadow: 0px 1px 2px rgba(60, 64, 67, 0.3), 0px 1px 3px 1px rgba(60, 64, 67, 0.15);\n",
              "      fill: #174EA6;\n",
              "    }\n",
              "\n",
              "    [theme=dark] .colab-df-convert {\n",
              "      background-color: #3B4455;\n",
              "      fill: #D2E3FC;\n",
              "    }\n",
              "\n",
              "    [theme=dark] .colab-df-convert:hover {\n",
              "      background-color: #434B5C;\n",
              "      box-shadow: 0px 1px 3px 1px rgba(0, 0, 0, 0.15);\n",
              "      filter: drop-shadow(0px 1px 2px rgba(0, 0, 0, 0.3));\n",
              "      fill: #FFFFFF;\n",
              "    }\n",
              "  </style>\n",
              "\n",
              "      <script>\n",
              "        const buttonEl =\n",
              "          document.querySelector('#df-d79fe2cf-874b-42ce-854e-140c79bf9350 button.colab-df-convert');\n",
              "        buttonEl.style.display =\n",
              "          google.colab.kernel.accessAllowed ? 'block' : 'none';\n",
              "\n",
              "        async function convertToInteractive(key) {\n",
              "          const element = document.querySelector('#df-d79fe2cf-874b-42ce-854e-140c79bf9350');\n",
              "          const dataTable =\n",
              "            await google.colab.kernel.invokeFunction('convertToInteractive',\n",
              "                                                     [key], {});\n",
              "          if (!dataTable) return;\n",
              "\n",
              "          const docLinkHtml = 'Like what you see? Visit the ' +\n",
              "            '<a target=\"_blank\" href=https://colab.research.google.com/notebooks/data_table.ipynb>data table notebook</a>'\n",
              "            + ' to learn more about interactive tables.';\n",
              "          element.innerHTML = '';\n",
              "          dataTable['output_type'] = 'display_data';\n",
              "          await google.colab.output.renderOutput(dataTable, element);\n",
              "          const docLink = document.createElement('div');\n",
              "          docLink.innerHTML = docLinkHtml;\n",
              "          element.appendChild(docLink);\n",
              "        }\n",
              "      </script>\n",
              "    </div>\n",
              "  </div>\n",
              "  "
            ]
          },
          "metadata": {},
          "execution_count": 25
        }
      ]
    },
    {
      "cell_type": "code",
      "source": [
        "df8_tr_e"
      ],
      "metadata": {
        "id": "6loAJkOohDAY",
        "colab": {
          "base_uri": "https://localhost:8080/",
          "height": 424
        },
        "outputId": "9db10192-6739-4b0e-84dc-37a84d43ce6d"
      },
      "execution_count": null,
      "outputs": [
        {
          "output_type": "execute_result",
          "data": {
            "text/plain": [
              "                                   [Name]\n",
              "0                              Wall Scale\n",
              "1                                  [Data]\n",
              "2    Accumulated Timestep,\"RMS Wallscale\"\n",
              "3                        1,1.57535382e-04\n",
              "4                        2,6.08169648e-04\n",
              "..                                    ...\n",
              "98                                 96,NAN\n",
              "99                                 97,NAN\n",
              "100                                98,NAN\n",
              "101                                99,NAN\n",
              "102                               100,NAN\n",
              "\n",
              "[103 rows x 1 columns]"
            ],
            "text/html": [
              "\n",
              "  <div id=\"df-9bb684b4-2dce-4c8f-8bb7-3e0b4ffb01d9\">\n",
              "    <div class=\"colab-df-container\">\n",
              "      <div>\n",
              "<style scoped>\n",
              "    .dataframe tbody tr th:only-of-type {\n",
              "        vertical-align: middle;\n",
              "    }\n",
              "\n",
              "    .dataframe tbody tr th {\n",
              "        vertical-align: top;\n",
              "    }\n",
              "\n",
              "    .dataframe thead th {\n",
              "        text-align: right;\n",
              "    }\n",
              "</style>\n",
              "<table border=\"1\" class=\"dataframe\">\n",
              "  <thead>\n",
              "    <tr style=\"text-align: right;\">\n",
              "      <th></th>\n",
              "      <th>[Name]</th>\n",
              "    </tr>\n",
              "  </thead>\n",
              "  <tbody>\n",
              "    <tr>\n",
              "      <th>0</th>\n",
              "      <td>Wall Scale</td>\n",
              "    </tr>\n",
              "    <tr>\n",
              "      <th>1</th>\n",
              "      <td>[Data]</td>\n",
              "    </tr>\n",
              "    <tr>\n",
              "      <th>2</th>\n",
              "      <td>Accumulated Timestep,\"RMS Wallscale\"</td>\n",
              "    </tr>\n",
              "    <tr>\n",
              "      <th>3</th>\n",
              "      <td>1,1.57535382e-04</td>\n",
              "    </tr>\n",
              "    <tr>\n",
              "      <th>4</th>\n",
              "      <td>2,6.08169648e-04</td>\n",
              "    </tr>\n",
              "    <tr>\n",
              "      <th>...</th>\n",
              "      <td>...</td>\n",
              "    </tr>\n",
              "    <tr>\n",
              "      <th>98</th>\n",
              "      <td>96,NAN</td>\n",
              "    </tr>\n",
              "    <tr>\n",
              "      <th>99</th>\n",
              "      <td>97,NAN</td>\n",
              "    </tr>\n",
              "    <tr>\n",
              "      <th>100</th>\n",
              "      <td>98,NAN</td>\n",
              "    </tr>\n",
              "    <tr>\n",
              "      <th>101</th>\n",
              "      <td>99,NAN</td>\n",
              "    </tr>\n",
              "    <tr>\n",
              "      <th>102</th>\n",
              "      <td>100,NAN</td>\n",
              "    </tr>\n",
              "  </tbody>\n",
              "</table>\n",
              "<p>103 rows × 1 columns</p>\n",
              "</div>\n",
              "      <button class=\"colab-df-convert\" onclick=\"convertToInteractive('df-9bb684b4-2dce-4c8f-8bb7-3e0b4ffb01d9')\"\n",
              "              title=\"Convert this dataframe to an interactive table.\"\n",
              "              style=\"display:none;\">\n",
              "        \n",
              "  <svg xmlns=\"http://www.w3.org/2000/svg\" height=\"24px\"viewBox=\"0 0 24 24\"\n",
              "       width=\"24px\">\n",
              "    <path d=\"M0 0h24v24H0V0z\" fill=\"none\"/>\n",
              "    <path d=\"M18.56 5.44l.94 2.06.94-2.06 2.06-.94-2.06-.94-.94-2.06-.94 2.06-2.06.94zm-11 1L8.5 8.5l.94-2.06 2.06-.94-2.06-.94L8.5 2.5l-.94 2.06-2.06.94zm10 10l.94 2.06.94-2.06 2.06-.94-2.06-.94-.94-2.06-.94 2.06-2.06.94z\"/><path d=\"M17.41 7.96l-1.37-1.37c-.4-.4-.92-.59-1.43-.59-.52 0-1.04.2-1.43.59L10.3 9.45l-7.72 7.72c-.78.78-.78 2.05 0 2.83L4 21.41c.39.39.9.59 1.41.59.51 0 1.02-.2 1.41-.59l7.78-7.78 2.81-2.81c.8-.78.8-2.07 0-2.86zM5.41 20L4 18.59l7.72-7.72 1.47 1.35L5.41 20z\"/>\n",
              "  </svg>\n",
              "      </button>\n",
              "      \n",
              "  <style>\n",
              "    .colab-df-container {\n",
              "      display:flex;\n",
              "      flex-wrap:wrap;\n",
              "      gap: 12px;\n",
              "    }\n",
              "\n",
              "    .colab-df-convert {\n",
              "      background-color: #E8F0FE;\n",
              "      border: none;\n",
              "      border-radius: 50%;\n",
              "      cursor: pointer;\n",
              "      display: none;\n",
              "      fill: #1967D2;\n",
              "      height: 32px;\n",
              "      padding: 0 0 0 0;\n",
              "      width: 32px;\n",
              "    }\n",
              "\n",
              "    .colab-df-convert:hover {\n",
              "      background-color: #E2EBFA;\n",
              "      box-shadow: 0px 1px 2px rgba(60, 64, 67, 0.3), 0px 1px 3px 1px rgba(60, 64, 67, 0.15);\n",
              "      fill: #174EA6;\n",
              "    }\n",
              "\n",
              "    [theme=dark] .colab-df-convert {\n",
              "      background-color: #3B4455;\n",
              "      fill: #D2E3FC;\n",
              "    }\n",
              "\n",
              "    [theme=dark] .colab-df-convert:hover {\n",
              "      background-color: #434B5C;\n",
              "      box-shadow: 0px 1px 3px 1px rgba(0, 0, 0, 0.15);\n",
              "      filter: drop-shadow(0px 1px 2px rgba(0, 0, 0, 0.3));\n",
              "      fill: #FFFFFF;\n",
              "    }\n",
              "  </style>\n",
              "\n",
              "      <script>\n",
              "        const buttonEl =\n",
              "          document.querySelector('#df-9bb684b4-2dce-4c8f-8bb7-3e0b4ffb01d9 button.colab-df-convert');\n",
              "        buttonEl.style.display =\n",
              "          google.colab.kernel.accessAllowed ? 'block' : 'none';\n",
              "\n",
              "        async function convertToInteractive(key) {\n",
              "          const element = document.querySelector('#df-9bb684b4-2dce-4c8f-8bb7-3e0b4ffb01d9');\n",
              "          const dataTable =\n",
              "            await google.colab.kernel.invokeFunction('convertToInteractive',\n",
              "                                                     [key], {});\n",
              "          if (!dataTable) return;\n",
              "\n",
              "          const docLinkHtml = 'Like what you see? Visit the ' +\n",
              "            '<a target=\"_blank\" href=https://colab.research.google.com/notebooks/data_table.ipynb>data table notebook</a>'\n",
              "            + ' to learn more about interactive tables.';\n",
              "          element.innerHTML = '';\n",
              "          dataTable['output_type'] = 'display_data';\n",
              "          await google.colab.output.renderOutput(dataTable, element);\n",
              "          const docLink = document.createElement('div');\n",
              "          docLink.innerHTML = docLinkHtml;\n",
              "          element.appendChild(docLink);\n",
              "        }\n",
              "      </script>\n",
              "    </div>\n",
              "  </div>\n",
              "  "
            ]
          },
          "metadata": {},
          "execution_count": 26
        }
      ]
    },
    {
      "cell_type": "markdown",
      "source": [
        "Gráfico F16\n",
        "\n",
        "\n",
        "---\n",
        "\n",
        "\n",
        "\n",
        "---\n",
        "\n",
        "\n",
        "\n",
        "---\n",
        "\n"
      ],
      "metadata": {
        "id": "hysAkRWIk4OO"
      }
    },
    {
      "cell_type": "code",
      "source": [
        "import numpy as np \n",
        "import matplotlib.pyplot as plt\n"
      ],
      "metadata": {
        "id": "O9pL5vG11xM_"
      },
      "execution_count": null,
      "outputs": []
    },
    {
      "cell_type": "markdown",
      "source": [
        "\n",
        "Momentum and Mass: Plot Coordinates for RMS P-Mass,None\t"
      ],
      "metadata": {
        "id": "I0pP9gK9nQSb"
      }
    },
    {
      "cell_type": "code",
      "source": [
        "x = [1.00E+00,2.00E+00,3.00E+00,4.00E+00,5.00E+00,6.00E+00,7.00E+00,8.00E+00,9.00E+00,1.00E+01,1.10E+01,1.20E+01,1.30E+01,1.40E+01,1.50E+01,1.60E+01,1.70E+01,1.80E+01,1.90E+01,2.00E+01,2.10E+01,2.20E+01,2.30E+01,2.40E+01,2.50E+01,2.60E+01,2.70E+01,2.80E+01,2.90E+01,3.00E+01,3.10E+01,3.20E+01,3.30E+01,3.40E+01,3.50E+01,3.60E+01,3.70E+01,3.80E+01,3.90E+01,4.00E+01,4.10E+01,4.20E+01,4.30E+01,4.40E+01,4.50E+01,4.60E+01,4.70E+01,4.80E+01,4.90E+01,5.00E+01,5.10E+01,5.20E+01,5.30E+01,5.40E+01,5.50E+01,5.60E+01,5.70E+01,5.80E+01,5.90E+01,6.00E+01,6.10E+01,6.20E+01,6.30E+01,6.40E+01,6.50E+01,6.60E+01,6.70E+01,6.80E+01,6.90E+01,7.00E+01,7.10E+01,7.20E+01,7.30E+01,7.40E+01,7.50E+01,7.60E+01,7.70E+01,7.80E+01,7.90E+01,8.00E+01,8.10E+01,8.20E+01,8.30E+01,8.40E+01,8.50E+01,8.60E+01,8.70E+01,8.80E+01,8.90E+01,9.00E+01,9.10E+01,9.20E+01,9.30E+01,9.40E+01,9.50E+01,9.60E+01,9.70E+01,9.80E+01,9.90E+01,1.00E+02]\n",
        "y = [6.99E-03,2.09E-03,1.17E-03,2.49E-03,1.52E-03,1.01E-03,5.78E-04,3.57E-04,2.25E-04,1.55E-04,1.11E-04,8.35E-05,6.49E-05,5.05E-05,4.06E-05,3.21E-05,2.60E-05,2.13E-05,1.76E-05,1.48E-05,1.25E-05,1.09E-05,9.59E-06,8.64E-06,7.88E-06,7.32E-06,6.86E-06,6.51E-06,6.26E-06,5.99E-06,5.73E-06,5.48E-06,5.66E-06,5.25E-06,4.82E-06,4.44E-06,4.10E-06,3.81E-06,3.56E-06,3.34E-06,3.16E-06,3.00E-06,2.88E-06,2.77E-06,2.70E-06,2.65E-06,2.68E-06,2.54E-06,2.59E-06,2.52E-06,2.43E-06,2.33E-06,2.23E-06,2.13E-06,2.04E-06,1.96E-06,1.92E-06,1.90E-06,1.89E-06,1.89E-06,1.83E-06,1.87E-06,1.81E-06,1.80E-06,1.81E-06,1.81E-06,1.81E-06,1.81E-06,1.80E-06,1.80E-06,1.79E-06,1.74E-06,1.68E-06,1.66E-06,1.70E-06,1.75E-06,1.80E-06,1.83E-06,1.83E-06,1.80E-06,1.76E-06,1.71E-06,1.64E-06,1.57E-06,1.49E-06,1.40E-06,1.32E-06,1.25E-06,1.17E-06,1.11E-06,1.05E-06,1.02E-06,9.97E-07,9.87E-07,9.81E-07,9.73E-07,9.58E-07,9.37E-07,9.08E-07,8.74E-07]\n",
        "\n",
        "plt.plot(x,y)\n",
        "plt.plot(x,y,label = \"RMS P-Mass\")\n",
        "plt.legend()\n",
        "plt.show()\n",
        "\n",
        "x1 = [1.00E+00,2.00E+00,3.00E+00,4.00E+00,5.00E+00,6.00E+00,7.00E+00,8.00E+00,9.00E+00,1.00E+01,1.10E+01,1.20E+01,1.30E+01,1.40E+01,1.50E+01,1.60E+01,1.70E+01,1.80E+01,1.90E+01,2.00E+01,2.10E+01,2.20E+01,2.30E+01,2.40E+01,2.50E+01,2.60E+01,2.70E+01,2.80E+01,2.90E+01,3.00E+01,3.10E+01,3.20E+01,3.30E+01,3.40E+01,3.50E+01,3.60E+01,3.70E+01,3.80E+01,3.90E+01,4.00E+01,4.10E+01,4.20E+01,4.30E+01,4.40E+01,4.50E+01,4.60E+01,4.70E+01,4.80E+01,4.90E+01,5.00E+01,5.10E+01,5.20E+01,5.30E+01,5.40E+01,5.50E+01,5.60E+01,5.70E+01,5.80E+01,5.90E+01,6.00E+01,6.10E+01,6.20E+01,6.30E+01,6.40E+01,6.50E+01,6.60E+01,6.70E+01,6.80E+01,6.90E+01,7.00E+01,7.10E+01,7.20E+01,7.30E+01,7.40E+01,7.50E+01,7.60E+01,7.70E+01,7.80E+01,7.90E+01,8.00E+01,8.10E+01,8.20E+01,8.30E+01,8.40E+01,8.50E+01,8.60E+01,8.70E+01,8.80E+01,8.90E+01,9.00E+01,9.10E+01,9.20E+01,9.30E+01,9.40E+01,9.50E+01,9.60E+01,9.70E+01,9.80E+01,9.90E+01,1.00E+02]\n",
        "y1 = [7.69E-05,4.62E-03,5.54E-03,4.70E-03,3.01E-03,2.08E-03,1.50E-03,1.09E-03,8.75E-04,7.28E-04,5.94E-04,5.04E-04,4.25E-04,3.65E-04,3.16E-04,2.92E-04,2.67E-04,2.43E-04,2.26E-04,2.12E-04,2.00E-04,1.91E-04,1.83E-04,1.76E-04,1.69E-04,1.62E-04,1.54E-04,1.44E-04,1.33E-04,1.24E-04,1.18E-04,1.14E-04,1.14E-04,1.14E-04,1.12E-04,1.09E-04,1.05E-04,1.03E-04,1.05E-04,1.10E-04,1.18E-04,1.25E-04,1.32E-04,1.39E-04,1.42E-04,1.41E-04,1.49E-04,1.55E-04,1.49E-04,1.37E-04,1.34E-04,1.35E-04,1.39E-04,1.42E-04,1.47E-04,1.47E-04,1.42E-04,1.38E-04,1.34E-04,1.31E-04,1.26E-04,1.22E-04,1.15E-04,1.12E-04,1.14E-04,1.15E-04,1.14E-04,1.11E-04,1.09E-04,1.05E-04,1.03E-04,1.01E-04,9.76E-05,9.75E-05,9.89E-05,1.02E-04,1.07E-04,1.12E-04,1.17E-04,1.21E-04,1.25E-04,1.27E-04,1.27E-04,1.25E-04,1.23E-04,1.19E-04,1.15E-04,1.12E-04,1.08E-04,1.05E-04,1.01E-04,9.71E-05,9.34E-05,8.92E-05,8.46E-05,8.17E-05,7.84E-05,7.66E-05,7.59E-05,7.47E-05]    \n",
        "plt.plot(x1,y1)\n",
        "plt.plot(x1,y1,label = \"RMS U-Mom\")\n",
        "plt.legend()\n",
        "plt.show()\n",
        "\n",
        "x2 = [1.00E+00,2.00E+00,3.00E+00,4.00E+00,5.00E+00,6.00E+00,7.00E+00,8.00E+00,9.00E+00,1.00E+01,1.10E+01,1.20E+01,1.30E+01,1.40E+01,1.50E+01,1.60E+01,1.70E+01,1.80E+01,1.90E+01,2.00E+01,2.10E+01,2.20E+01,2.30E+01,2.40E+01,2.50E+01,2.60E+01,2.70E+01,2.80E+01,2.90E+01,3.00E+01,3.10E+01,3.20E+01,3.30E+01,3.40E+01,3.50E+01,3.60E+01,3.70E+01,3.80E+01,3.90E+01,4.00E+01,4.10E+01,4.20E+01,4.30E+01,4.40E+01,4.50E+01,4.60E+01,4.70E+01,4.80E+01,4.90E+01,5.00E+01,5.10E+01,5.20E+01,5.30E+01,5.40E+01,5.50E+01,5.60E+01,5.70E+01,5.80E+01,5.90E+01,6.00E+01,6.10E+01,6.20E+01,6.30E+01,6.40E+01,6.50E+01,6.60E+01,6.70E+01,6.80E+01,6.90E+01,7.00E+01,7.10E+01,7.20E+01,7.30E+01,7.40E+01,7.50E+01,7.60E+01,7.70E+01,7.80E+01,7.90E+01,8.00E+01,8.10E+01,8.20E+01,8.30E+01,8.40E+01,8.50E+01,8.60E+01,8.70E+01,8.80E+01,8.90E+01,9.00E+01,9.10E+01,9.20E+01,9.30E+01,9.40E+01,9.50E+01,9.60E+01,9.70E+01,9.80E+01,9.90E+01,1.00E+02]\n",
        "y2 = [1.16E-04,3.64E-03,3.62E-03,3.60E-03,2.31E-03,1.65E-03,1.18E-03,8.48E-04,6.39E-04,5.00E-04,4.11E-04,3.37E-04,2.86E-04,2.46E-04,2.18E-04,2.03E-04,1.91E-04,1.79E-04,1.68E-04,1.60E-04,1.53E-04,1.46E-04,1.39E-04,1.32E-04,1.27E-04,1.22E-04,1.18E-04,1.12E-04,1.06E-04,9.98E-05,9.49E-05,9.12E-05,8.86E-05,8.69E-05,8.59E-05,8.56E-05,8.56E-05,8.66E-05,8.65E-05,8.43E-05,8.24E-05,8.11E-05,8.03E-05,7.97E-05,7.87E-05,7.77E-05,7.77E-05,7.68E-05,7.74E-05,7.86E-05,8.35E-05,9.24E-05,9.61E-05,9.09E-05,9.18E-05,9.21E-05,8.78E-05,8.36E-05,7.88E-05,7.50E-05,7.13E-05,6.98E-05,6.93E-05,7.15E-05,7.45E-05,7.39E-05,7.16E-05,6.87E-05,6.83E-05,7.44E-05,9.02E-05,9.70E-05,9.55E-05,9.63E-05,9.63E-05,9.56E-05,9.21E-05,9.05E-05,8.76E-05,8.39E-05,8.15E-05,8.19E-05,8.09E-05,7.93E-05,7.82E-05,7.66E-05,7.46E-05,7.38E-05,7.39E-05,7.41E-05,7.40E-05,7.37E-05,7.22E-05,6.97E-05,6.54E-05,6.28E-05,5.94E-05,5.61E-05,5.33E-05,5.08E-05]\n",
        "plt.plot(x2,y2)\n",
        "plt.plot(x2,y2,label = \"RMS V-Mom\")\n",
        "plt.legend()\n",
        "plt.show()\n",
        "\n",
        "x3 = [1.00E+00,2.00E+00,3.00E+00,4.00E+00,5.00E+00,6.00E+00,7.00E+00,8.00E+00,9.00E+00,1.00E+01,1.10E+01,1.20E+01,1.30E+01,1.40E+01,1.50E+01,1.60E+01,1.70E+01,1.80E+01,1.90E+01,2.00E+01,2.10E+01,2.20E+01,2.30E+01,2.40E+01,2.50E+01,2.60E+01,2.70E+01,2.80E+01,2.90E+01,3.00E+01,3.10E+01,3.20E+01,3.30E+01,3.40E+01,3.50E+01,3.60E+01,3.70E+01,3.80E+01,3.90E+01,4.00E+01,4.10E+01,4.20E+01,4.30E+01,4.40E+01,4.50E+01,4.60E+01,4.70E+01,4.80E+01,4.90E+01,5.00E+01,5.10E+01,5.20E+01,5.30E+01,5.40E+01,5.50E+01,5.60E+01,5.70E+01,5.80E+01,5.90E+01,6.00E+01,6.10E+01,6.20E+01,6.30E+01,6.40E+01,6.50E+01,6.60E+01,6.70E+01,6.80E+01,6.90E+01,7.00E+01,7.10E+01,7.20E+01,7.30E+01,7.40E+01,7.50E+01,7.60E+01,7.70E+01,7.80E+01,7.90E+01,8.00E+01,8.10E+01,8.20E+01,8.30E+01,8.40E+01,8.50E+01,8.60E+01,8.70E+01,8.80E+01,8.90E+01,9.00E+01,9.10E+01,9.20E+01,9.30E+01,9.40E+01,9.50E+01,9.60E+01,9.70E+01,9.80E+01,9.90E+01,1.00E+02]\n",
        "y3 = [2.15E-03,1.73E-02,1.33E-02,1.01E-02,6.48E-03,4.09E-03,2.70E-03,1.88E-03,1.39E-03,1.08E-03,8.41E-04,7.10E-04,6.07E-04,5.38E-04,4.79E-04,4.48E-04,4.16E-04,3.89E-04,3.69E-04,3.54E-04,3.38E-04,3.24E-04,3.12E-04,2.97E-04,2.83E-04,2.68E-04,2.56E-04,2.47E-04,2.32E-04,2.18E-04,2.10E-04,2.04E-04,2.03E-04,2.02E-04,1.94E-04,1.91E-04,1.91E-04,1.94E-04,1.97E-04,2.01E-04,2.08E-04,2.17E-04,2.29E-04,2.41E-04,2.46E-04,2.51E-04,2.61E-04,2.69E-04,2.64E-04,2.60E-04,2.55E-04,2.51E-04,2.44E-04,2.36E-04,2.27E-04,2.20E-04,2.07E-04,2.00E-04,1.93E-04,1.89E-04,1.86E-04,1.84E-04,1.84E-04,1.85E-04,1.87E-04,1.87E-04,1.87E-04,1.86E-04,1.85E-04,1.88E-04,2.00E-04,2.18E-04,2.16E-04,2.19E-04,2.19E-04,2.17E-04,2.18E-04,2.18E-04,2.11E-04,2.04E-04,1.99E-04,1.94E-04,1.90E-04,1.85E-04,1.80E-04,1.75E-04,1.70E-04,1.66E-04,1.62E-04,1.58E-04,1.55E-04,1.52E-04,1.50E-04,1.47E-04,1.45E-04,1.42E-04,1.38E-04,1.35E-04,1.31E-04,1.28E-04]\n",
        "plt.plot(x3,y3)\n",
        "plt.plot(x3,y3,label = \"RMS W-Mom\")\n",
        "plt.legend()\n",
        "plt.show()\n"
      ],
      "metadata": {
        "id": "_H0GUwq2nWhA",
        "colab": {
          "base_uri": "https://localhost:8080/",
          "height": 1000
        },
        "outputId": "56f10f67-c0b6-4224-8f1c-e6c8241d7960"
      },
      "execution_count": null,
      "outputs": [
        {
          "output_type": "display_data",
          "data": {
            "text/plain": [
              "<Figure size 432x288 with 1 Axes>"
            ],
            "image/png": "[encoded data removed]"
          },
          "metadata": {
            "needs_background": "light"
          }
        },
        {
          "output_type": "display_data",
          "data": {
            "text/plain": [
              "<Figure size 432x288 with 1 Axes>"
            ],
            "image/png": "[encoded data removed]"
          },
          "metadata": {
            "needs_background": "light"
          }
        },
        {
          "output_type": "display_data",
          "data": {
            "text/plain": [
              "<Figure size 432x288 with 1 Axes>"
            ],
            "image/png": "[encoded data removed]"
          },
          "metadata": {
            "needs_background": "light"
          }
        },
        {
          "output_type": "display_data",
          "data": {
            "text/plain": [
              "<Figure size 432x288 with 1 Axes>"
            ],
            "image/png": "[encoded data removed]"
          },
          "metadata": {
            "needs_background": "light"
          }
        }
      ]
    },
    {
      "cell_type": "code",
      "source": [
        "x = [1.00E+00,2.00E+00,3.00E+00,4.00E+00,5.00E+00,6.00E+00,7.00E+00,8.00E+00,9.00E+00,1.00E+01,1.10E+01,1.20E+01,1.30E+01,1.40E+01,1.50E+01,1.60E+01,1.70E+01,1.80E+01,1.90E+01,2.00E+01,2.10E+01,2.20E+01,2.30E+01,2.40E+01,2.50E+01,2.60E+01,2.70E+01,2.80E+01,2.90E+01,3.00E+01,3.10E+01,3.20E+01,3.30E+01,3.40E+01,3.50E+01,3.60E+01,3.70E+01,3.80E+01,3.90E+01,4.00E+01,4.10E+01,4.20E+01,4.30E+01,4.40E+01,4.50E+01,4.60E+01,4.70E+01,4.80E+01,4.90E+01,5.00E+01,5.10E+01,5.20E+01,5.30E+01,5.40E+01,5.50E+01,5.60E+01,5.70E+01,5.80E+01,5.90E+01,6.00E+01,6.10E+01,6.20E+01,6.30E+01,6.40E+01,6.50E+01,6.60E+01,6.70E+01,6.80E+01,6.90E+01,7.00E+01,7.10E+01,7.20E+01,7.30E+01,7.40E+01,7.50E+01,7.60E+01,7.70E+01,7.80E+01,7.90E+01,8.00E+01,8.10E+01,8.20E+01,8.30E+01,8.40E+01,8.50E+01,8.60E+01,8.70E+01,8.80E+01,8.90E+01,9.00E+01,9.10E+01,9.20E+01,9.30E+01,9.40E+01,9.50E+01,9.60E+01,9.70E+01,9.80E+01,9.90E+01,1.00E+02]\n",
        "y = [6.99E-03,2.09E-03,1.17E-03,2.49E-03,1.52E-03,1.01E-03,5.78E-04,3.57E-04,2.25E-04,1.55E-04,1.11E-04,8.35E-05,6.49E-05,5.05E-05,4.06E-05,3.21E-05,2.60E-05,2.13E-05,1.76E-05,1.48E-05,1.25E-05,1.09E-05,9.59E-06,8.64E-06,7.88E-06,7.32E-06,6.86E-06,6.51E-06,6.26E-06,5.99E-06,5.73E-06,5.48E-06,5.66E-06,5.25E-06,4.82E-06,4.44E-06,4.10E-06,3.81E-06,3.56E-06,3.34E-06,3.16E-06,3.00E-06,2.88E-06,2.77E-06,2.70E-06,2.65E-06,2.68E-06,2.54E-06,2.59E-06,2.52E-06,2.43E-06,2.33E-06,2.23E-06,2.13E-06,2.04E-06,1.96E-06,1.92E-06,1.90E-06,1.89E-06,1.89E-06,1.83E-06,1.87E-06,1.81E-06,1.80E-06,1.81E-06,1.81E-06,1.81E-06,1.81E-06,1.80E-06,1.80E-06,1.79E-06,1.74E-06,1.68E-06,1.66E-06,1.70E-06,1.75E-06,1.80E-06,1.83E-06,1.83E-06,1.80E-06,1.76E-06,1.71E-06,1.64E-06,1.57E-06,1.49E-06,1.40E-06,1.32E-06,1.25E-06,1.17E-06,1.11E-06,1.05E-06,1.02E-06,9.97E-07,9.87E-07,9.81E-07,9.73E-07,9.58E-07,9.37E-07,9.08E-07,8.74E-07]\n",
        "\n",
        "\n",
        "x1 = [1.00E+00,2.00E+00,3.00E+00,4.00E+00,5.00E+00,6.00E+00,7.00E+00,8.00E+00,9.00E+00,1.00E+01,1.10E+01,1.20E+01,1.30E+01,1.40E+01,1.50E+01,1.60E+01,1.70E+01,1.80E+01,1.90E+01,2.00E+01,2.10E+01,2.20E+01,2.30E+01,2.40E+01,2.50E+01,2.60E+01,2.70E+01,2.80E+01,2.90E+01,3.00E+01,3.10E+01,3.20E+01,3.30E+01,3.40E+01,3.50E+01,3.60E+01,3.70E+01,3.80E+01,3.90E+01,4.00E+01,4.10E+01,4.20E+01,4.30E+01,4.40E+01,4.50E+01,4.60E+01,4.70E+01,4.80E+01,4.90E+01,5.00E+01,5.10E+01,5.20E+01,5.30E+01,5.40E+01,5.50E+01,5.60E+01,5.70E+01,5.80E+01,5.90E+01,6.00E+01,6.10E+01,6.20E+01,6.30E+01,6.40E+01,6.50E+01,6.60E+01,6.70E+01,6.80E+01,6.90E+01,7.00E+01,7.10E+01,7.20E+01,7.30E+01,7.40E+01,7.50E+01,7.60E+01,7.70E+01,7.80E+01,7.90E+01,8.00E+01,8.10E+01,8.20E+01,8.30E+01,8.40E+01,8.50E+01,8.60E+01,8.70E+01,8.80E+01,8.90E+01,9.00E+01,9.10E+01,9.20E+01,9.30E+01,9.40E+01,9.50E+01,9.60E+01,9.70E+01,9.80E+01,9.90E+01,1.00E+02]\n",
        "y1 = [7.69E-05,4.62E-03,5.54E-03,4.70E-03,3.01E-03,2.08E-03,1.50E-03,1.09E-03,8.75E-04,7.28E-04,5.94E-04,5.04E-04,4.25E-04,3.65E-04,3.16E-04,2.92E-04,2.67E-04,2.43E-04,2.26E-04,2.12E-04,2.00E-04,1.91E-04,1.83E-04,1.76E-04,1.69E-04,1.62E-04,1.54E-04,1.44E-04,1.33E-04,1.24E-04,1.18E-04,1.14E-04,1.14E-04,1.14E-04,1.12E-04,1.09E-04,1.05E-04,1.03E-04,1.05E-04,1.10E-04,1.18E-04,1.25E-04,1.32E-04,1.39E-04,1.42E-04,1.41E-04,1.49E-04,1.55E-04,1.49E-04,1.37E-04,1.34E-04,1.35E-04,1.39E-04,1.42E-04,1.47E-04,1.47E-04,1.42E-04,1.38E-04,1.34E-04,1.31E-04,1.26E-04,1.22E-04,1.15E-04,1.12E-04,1.14E-04,1.15E-04,1.14E-04,1.11E-04,1.09E-04,1.05E-04,1.03E-04,1.01E-04,9.76E-05,9.75E-05,9.89E-05,1.02E-04,1.07E-04,1.12E-04,1.17E-04,1.21E-04,1.25E-04,1.27E-04,1.27E-04,1.25E-04,1.23E-04,1.19E-04,1.15E-04,1.12E-04,1.08E-04,1.05E-04,1.01E-04,9.71E-05,9.34E-05,8.92E-05,8.46E-05,8.17E-05,7.84E-05,7.66E-05,7.59E-05,7.47E-05]    \n",
        "\n",
        "x2 = [1.00E+00,2.00E+00,3.00E+00,4.00E+00,5.00E+00,6.00E+00,7.00E+00,8.00E+00,9.00E+00,1.00E+01,1.10E+01,1.20E+01,1.30E+01,1.40E+01,1.50E+01,1.60E+01,1.70E+01,1.80E+01,1.90E+01,2.00E+01,2.10E+01,2.20E+01,2.30E+01,2.40E+01,2.50E+01,2.60E+01,2.70E+01,2.80E+01,2.90E+01,3.00E+01,3.10E+01,3.20E+01,3.30E+01,3.40E+01,3.50E+01,3.60E+01,3.70E+01,3.80E+01,3.90E+01,4.00E+01,4.10E+01,4.20E+01,4.30E+01,4.40E+01,4.50E+01,4.60E+01,4.70E+01,4.80E+01,4.90E+01,5.00E+01,5.10E+01,5.20E+01,5.30E+01,5.40E+01,5.50E+01,5.60E+01,5.70E+01,5.80E+01,5.90E+01,6.00E+01,6.10E+01,6.20E+01,6.30E+01,6.40E+01,6.50E+01,6.60E+01,6.70E+01,6.80E+01,6.90E+01,7.00E+01,7.10E+01,7.20E+01,7.30E+01,7.40E+01,7.50E+01,7.60E+01,7.70E+01,7.80E+01,7.90E+01,8.00E+01,8.10E+01,8.20E+01,8.30E+01,8.40E+01,8.50E+01,8.60E+01,8.70E+01,8.80E+01,8.90E+01,9.00E+01,9.10E+01,9.20E+01,9.30E+01,9.40E+01,9.50E+01,9.60E+01,9.70E+01,9.80E+01,9.90E+01,1.00E+02]\n",
        "y2 = [1.16E-04,3.64E-03,3.62E-03,3.60E-03,2.31E-03,1.65E-03,1.18E-03,8.48E-04,6.39E-04,5.00E-04,4.11E-04,3.37E-04,2.86E-04,2.46E-04,2.18E-04,2.03E-04,1.91E-04,1.79E-04,1.68E-04,1.60E-04,1.53E-04,1.46E-04,1.39E-04,1.32E-04,1.27E-04,1.22E-04,1.18E-04,1.12E-04,1.06E-04,9.98E-05,9.49E-05,9.12E-05,8.86E-05,8.69E-05,8.59E-05,8.56E-05,8.56E-05,8.66E-05,8.65E-05,8.43E-05,8.24E-05,8.11E-05,8.03E-05,7.97E-05,7.87E-05,7.77E-05,7.77E-05,7.68E-05,7.74E-05,7.86E-05,8.35E-05,9.24E-05,9.61E-05,9.09E-05,9.18E-05,9.21E-05,8.78E-05,8.36E-05,7.88E-05,7.50E-05,7.13E-05,6.98E-05,6.93E-05,7.15E-05,7.45E-05,7.39E-05,7.16E-05,6.87E-05,6.83E-05,7.44E-05,9.02E-05,9.70E-05,9.55E-05,9.63E-05,9.63E-05,9.56E-05,9.21E-05,9.05E-05,8.76E-05,8.39E-05,8.15E-05,8.19E-05,8.09E-05,7.93E-05,7.82E-05,7.66E-05,7.46E-05,7.38E-05,7.39E-05,7.41E-05,7.40E-05,7.37E-05,7.22E-05,6.97E-05,6.54E-05,6.28E-05,5.94E-05,5.61E-05,5.33E-05,5.08E-05]\n",
        "\n",
        "x3 = [1.00E+00,2.00E+00,3.00E+00,4.00E+00,5.00E+00,6.00E+00,7.00E+00,8.00E+00,9.00E+00,1.00E+01,1.10E+01,1.20E+01,1.30E+01,1.40E+01,1.50E+01,1.60E+01,1.70E+01,1.80E+01,1.90E+01,2.00E+01,2.10E+01,2.20E+01,2.30E+01,2.40E+01,2.50E+01,2.60E+01,2.70E+01,2.80E+01,2.90E+01,3.00E+01,3.10E+01,3.20E+01,3.30E+01,3.40E+01,3.50E+01,3.60E+01,3.70E+01,3.80E+01,3.90E+01,4.00E+01,4.10E+01,4.20E+01,4.30E+01,4.40E+01,4.50E+01,4.60E+01,4.70E+01,4.80E+01,4.90E+01,5.00E+01,5.10E+01,5.20E+01,5.30E+01,5.40E+01,5.50E+01,5.60E+01,5.70E+01,5.80E+01,5.90E+01,6.00E+01,6.10E+01,6.20E+01,6.30E+01,6.40E+01,6.50E+01,6.60E+01,6.70E+01,6.80E+01,6.90E+01,7.00E+01,7.10E+01,7.20E+01,7.30E+01,7.40E+01,7.50E+01,7.60E+01,7.70E+01,7.80E+01,7.90E+01,8.00E+01,8.10E+01,8.20E+01,8.30E+01,8.40E+01,8.50E+01,8.60E+01,8.70E+01,8.80E+01,8.90E+01,9.00E+01,9.10E+01,9.20E+01,9.30E+01,9.40E+01,9.50E+01,9.60E+01,9.70E+01,9.80E+01,9.90E+01,1.00E+02]\n",
        "y3 = [2.15E-03,1.73E-02,1.33E-02,1.01E-02,6.48E-03,4.09E-03,2.70E-03,1.88E-03,1.39E-03,1.08E-03,8.41E-04,7.10E-04,6.07E-04,5.38E-04,4.79E-04,4.48E-04,4.16E-04,3.89E-04,3.69E-04,3.54E-04,3.38E-04,3.24E-04,3.12E-04,2.97E-04,2.83E-04,2.68E-04,2.56E-04,2.47E-04,2.32E-04,2.18E-04,2.10E-04,2.04E-04,2.03E-04,2.02E-04,1.94E-04,1.91E-04,1.91E-04,1.94E-04,1.97E-04,2.01E-04,2.08E-04,2.17E-04,2.29E-04,2.41E-04,2.46E-04,2.51E-04,2.61E-04,2.69E-04,2.64E-04,2.60E-04,2.55E-04,2.51E-04,2.44E-04,2.36E-04,2.27E-04,2.20E-04,2.07E-04,2.00E-04,1.93E-04,1.89E-04,1.86E-04,1.84E-04,1.84E-04,1.85E-04,1.87E-04,1.87E-04,1.87E-04,1.86E-04,1.85E-04,1.88E-04,2.00E-04,2.18E-04,2.16E-04,2.19E-04,2.19E-04,2.17E-04,2.18E-04,2.18E-04,2.11E-04,2.04E-04,1.99E-04,1.94E-04,1.90E-04,1.85E-04,1.80E-04,1.75E-04,1.70E-04,1.66E-04,1.62E-04,1.58E-04,1.55E-04,1.52E-04,1.50E-04,1.47E-04,1.45E-04,1.42E-04,1.38E-04,1.35E-04,1.31E-04,1.28E-04]\n",
        "plt.figure(figsize= (25,10))\n",
        "plt.plot(x,y)\n",
        "plt.plot(x1,y1)\n",
        "plt.plot(x2,y2)\n",
        "plt.plot(x3,y3)\n",
        "\n",
        "plt.plot(x,y,label = \"RMS P-Mass\")\n",
        "plt.plot(x1,y1,label =\"RMS U-Mom\" )\n",
        "plt.plot(x2,y2,label=\"RMS V-Mom\" )\n",
        "plt.plot(x3,y3,label=\"RMS W-Mom\")\n",
        "\n",
        "plt.legend()\n",
        "plt.show()\n"
      ],
      "metadata": {
        "id": "QhCsCDfFCUBd",
        "colab": {
          "base_uri": "https://localhost:8080/",
          "height": 577
        },
        "outputId": "b980edc9-fc73-4d80-d62d-97d8b8398f6e"
      },
      "execution_count": null,
      "outputs": [
        {
          "output_type": "display_data",
          "data": {
            "text/plain": [
              "<Figure size 1800x720 with 1 Axes>"
            ],
            "image/png": "[encoded data removed]"
          },
          "metadata": {
            "needs_background": "light"
          }
        }
      ]
    },
    {
      "cell_type": "code",
      "source": [
        "x5 = [1.00E+00, 2.00E+00, 3.00E+00, 4.00E+00, 5.00E+00, 6.00E+00, 7.00E+00, 8.00E+00, 9.00E+00, 1.00E+01, 1.10E+01, 1.20E+01, 1.30E+01, 1.40E+01, 1.50E+01, 1.60E+01, 1.70E+01, 1.80E+01, 1.90E+01, 2.00E+01, 2.10E+01, 2.20E+01, 2.30E+01, 2.40E+01, 2.50E+01, 2.60E+01, 2.70E+01, 2.80E+01, 2.90E+01, 3.00E+01, 3.10E+01, 3.20E+01, 3.30E+01, 3.40E+01, 3.50E+01, 3.60E+01, 3.70E+01, 3.80E+01, 3.90E+01, 4.00E+01, 4.10E+01, 4.20E+01, 4.30E+01, 4.40E+01, 4.50E+01, 4.60E+01, 4.70E+01, 4.80E+01, 4.90E+01, 5.00E+01, 5.10E+01, 5.20E+01, 5.30E+01, 5.40E+01, 5.50E+01, 5.60E+01, 5.70E+01, 5.80E+01, 5.90E+01, 6.00E+01, 6.10E+01, 6.20E+01, 6.30E+01, 6.40E+01, 6.50E+01, 6.60E+01, 6.70E+01, 6.80E+01, 6.90E+01, 7.00E+01, 7.10E+01, 7.20E+01, 7.30E+01, 7.40E+01, 7.50E+01, 7.60E+01, 7.70E+01, 7.80E+01, 7.90E+01, 8.00E+01, 8.10E+01, 8.20E+01, 8.30E+01, 8.40E+01, 8.50E+01, 8.60E+01, 8.70E+01, 8.80E+01, 8.90E+01, 9.00E+01, 9.10E+01, 9.20E+01, 9.30E+01, 9.40E+01, 9.50E+01, 9.60E+01, 9.70E+01, 9.80E+01, 9.90E+01, 1.00E+02]\n",
        "y5 = [1.01E-01, 1.04E-02, 5.05E-03, 8.37E-03, 7.08E-03, 4.50E-03, 2.92E-03, 2.09E-03, 1.48E-03, 1.13E-03, 8.52E-04, 7.23E-04, 5.70E-04, 5.23E-04, 4.26E-04, 3.69E-04, 3.20E-04, 2.78E-04, 2.42E-04, 2.12E-04, 1.86E-04, 1.66E-04, 1.49E-04, 1.36E-04, 1.26E-04, 1.22E-04, 1.16E-04, 1.10E-04, 1.05E-04, 1.01E-04, 9.62E-05, 9.23E-05, 8.77E-05, 8.22E-05, 7.63E-05, 7.12E-05, 6.69E-05, 6.31E-05, 5.97E-05, 5.67E-05, 5.40E-05, 5.18E-05, 4.99E-05, 4.80E-05, 4.65E-05, 4.59E-05, 4.50E-05, 4.46E-05, 4.39E-05, 4.34E-05, 4.30E-05, 4.28E-05, 4.27E-05, 4.26E-05, 4.17E-05, 4.11E-05, 4.03E-05, 3.92E-05, 3.82E-05, 3.74E-05, 3.69E-05, 3.61E-05, 3.51E-05, 3.37E-05, 3.22E-05, 3.05E-05, 2.91E-05, 2.75E-05, 2.69E-05, 2.69E-05, 2.68E-05, 2.62E-05, 2.55E-05, 2.48E-05, 2.39E-05, 2.28E-05, 2.22E-05, 2.18E-05, 2.12E-05, 2.05E-05, 1.95E-05, 1.82E-05, 1.68E-05, 1.57E-05, 1.51E-05, 1.48E-05, 1.50E-05, 1.57E-05,  1.63E-05, 1.64E-05, 1.63E-05, 1.64E-05, 1.65E-05, 1.64E-05, 1.61E-05, 1.57E-05, 1.52E-05,1.47E-05, 1.42E-05, 1.37E-05]\n",
        "plt.plot(x5,y5)\n",
        "plt.plot(x5,y5,label = \"RMS K-TurbKE\")\n",
        "plt.legend()\n",
        "plt.show()\n",
        "\n",
        "x6 = [1.00E+00, 2.00E+00, 3.00E+00, 4.00E+00, 5.00E+00, 6.00E+00, 7.00E+00, 8.00E+00, 9.00E+00, 1.00E+01, 1.10E+01, 1.20E+01, 1.30E+01, 1.40E+01, 1.50E+01, 1.60E+01, 1.70E+01, 1.80E+01, 1.90E+01, 2.00E+01, 2.10E+01, 2.20E+01, 2.30E+01, 2.40E+01, 2.50E+01, 2.60E+01, 2.70E+01, 2.80E+01, 2.90E+01, 3.00E+01, 3.10E+01, 3.20E+01, 3.30E+01, 3.40E+01, 3.50E+01, 3.60E+01, 3.70E+01, 3.80E+01, 3.90E+01, 4.00E+01, 4.10E+01, 4.20E+01, 4.30E+01, 4.40E+01, 4.50E+01, 4.60E+01, 4.70E+01, 4.80E+01, 4.90E+01, 5.00E+01, 5.10E+01, 5.20E+01, 5.30E+01, 5.40E+01, 5.50E+01, 5.60E+01, 5.70E+01, 5.80E+01, 5.90E+01, 6.00E+01, 6.10E+01, 6.20E+01, 6.30E+01, 6.40E+01, 6.50E+01, 6.60E+01, 6.70E+01, 6.80E+01, 6.90E+01, 7.00E+01, 7.10E+01,7.20E+01, 7.30E+01, 7.40E+01, 7.50E+01, 7.60E+01, 7.70E+01, 7.80E+01, 7.90E+01, 8.00E+01, 8.10E+01, 8.20E+01, 8.30E+01, 8.40E+01, 8.50E+01, 8.60E+01, 8.70E+01, 8.80E+01, 8.90E+01, 9.00E+01, 9.10E+01, 9.20E+01, 9.30E+01, 9.40E+01, 9.50E+01, 9.60E+01, 9.70E+01, 9.80E+01, 9.90E+01, 1.00E+02]\n",
        "y6 = [7.95E-03, 7.54E-04, 4.01E-04, 3.68E-04, 3.76E-04, 2.81E-04, 1.87E-04, 1.30E-04,9.57E-05, 8.08E-05, 6.42E-05, 6.13E-05, 5.07E-05, 5.01E-05, 4.14E-05, 3.65E-05, 3.22E-05, 2.85E-05, 2.51E-05, 2.20E-05, 1.92E-05, 1.68E-05, 1.47E-05, 1.29E-05, 1.13E-05, 1.00E-05, 8.97E-06, 8.05E-06, 7.35E-06, 6.91E-06, 6.48E-06, 6.77E-06, 6.35E-06, 6.09E-06, 6.13E-06, 6.23E-06, 6.26E-06, 6.43E-06, 6.37E-06, 6.47E-06, 6.30E-06, 6.28E-06, 6.45E-06, 6.63E-06, 7.01E-06, 7.60E-06, 7.73E-06, 8.09E-06, 8.29E-06, 8.60E-06, 8.69E-06, 8.76E-06, 8.92E-06, 8.98E-06, 9.03E-06, 8.32E-06, 8.29E-06, 7.06E-06, 6.41E-06, 5.72E-06, 5.65E-06, 4.99E-06, 4.67E-06, 4.40E-06, 4.18E-06, 4.01E-06, 3.89E-06, 3.90E-06, 3.96E-06, 4.05E-06, 4.04E-06, 3.98E-06, 3.94E-06, 3.89E-06, 3.90E-06, 3.91E-06, 3.92E-06, 3.89E-06, 3.99E-06, 4.13E-06, 4.32E-06, 4.50E-06, 4.66E-06, 4.42E-06, 4.40E-06, 4.26E-06, 4.34E-06, 4.29E-06, 4.28E-06, 4.24E-06, 4.27E-06, 4.22E-06, 4.17E-06, 4.52E-06, 4.35E-06, 4.08E-06, 3.91E-06, 3.75E-06, 3.44E-06, 3.07E-06]\n",
        "plt.plot(x6,y6)\n",
        "plt.plot(x6,y6,label = \"RMS O-TurbFreq\")\n",
        "plt.legend()\n",
        "plt.show()"
      ],
      "metadata": {
        "id": "zJTIhFr_0uHR",
        "colab": {
          "base_uri": "https://localhost:8080/",
          "height": 513
        },
        "outputId": "ddc0b252-7793-48db-ca4b-3d54c3af8f02"
      },
      "execution_count": null,
      "outputs": [
        {
          "output_type": "display_data",
          "data": {
            "text/plain": [
              "<Figure size 432x288 with 1 Axes>"
            ],
            "image/png": "[encoded data removed]"
          },
          "metadata": {
            "needs_background": "light"
          }
        },
        {
          "output_type": "display_data",
          "data": {
            "text/plain": [
              "<Figure size 432x288 with 1 Axes>"
            ],
            "image/png": "[encoded data removed]"
          },
          "metadata": {
            "needs_background": "light"
          }
        }
      ]
    },
    {
      "cell_type": "code",
      "source": [
        "x5 = [1.00E+00, 2.00E+00, 3.00E+00, 4.00E+00, 5.00E+00, 6.00E+00, 7.00E+00, 8.00E+00, 9.00E+00, 1.00E+01, 1.10E+01, 1.20E+01, 1.30E+01, 1.40E+01, 1.50E+01, 1.60E+01, 1.70E+01, 1.80E+01, 1.90E+01, 2.00E+01, 2.10E+01, 2.20E+01, 2.30E+01, 2.40E+01, 2.50E+01, 2.60E+01, 2.70E+01, 2.80E+01, 2.90E+01, 3.00E+01, 3.10E+01, 3.20E+01, 3.30E+01, 3.40E+01, 3.50E+01, 3.60E+01, 3.70E+01, 3.80E+01, 3.90E+01, 4.00E+01, 4.10E+01, 4.20E+01, 4.30E+01, 4.40E+01, 4.50E+01, 4.60E+01, 4.70E+01, 4.80E+01, 4.90E+01, 5.00E+01, 5.10E+01, 5.20E+01, 5.30E+01, 5.40E+01, 5.50E+01, 5.60E+01, 5.70E+01, 5.80E+01, 5.90E+01, 6.00E+01, 6.10E+01, 6.20E+01, 6.30E+01, 6.40E+01, 6.50E+01, 6.60E+01, 6.70E+01, 6.80E+01, 6.90E+01, 7.00E+01, 7.10E+01, 7.20E+01, 7.30E+01, 7.40E+01, 7.50E+01, 7.60E+01, 7.70E+01, 7.80E+01, 7.90E+01, 8.00E+01, 8.10E+01, 8.20E+01, 8.30E+01, 8.40E+01, 8.50E+01, 8.60E+01, 8.70E+01, 8.80E+01, 8.90E+01, 9.00E+01, 9.10E+01, 9.20E+01, 9.30E+01, 9.40E+01, 9.50E+01, 9.60E+01, 9.70E+01, 9.80E+01, 9.90E+01, 1.00E+02]\n",
        "y5 = [1.01E-01, 1.04E-02, 5.05E-03, 8.37E-03, 7.08E-03, 4.50E-03, 2.92E-03, 2.09E-03, 1.48E-03, 1.13E-03, 8.52E-04, 7.23E-04, 5.70E-04, 5.23E-04, 4.26E-04, 3.69E-04, 3.20E-04, 2.78E-04, 2.42E-04, 2.12E-04, 1.86E-04, 1.66E-04, 1.49E-04, 1.36E-04, 1.26E-04, 1.22E-04, 1.16E-04, 1.10E-04, 1.05E-04, 1.01E-04, 9.62E-05, 9.23E-05, 8.77E-05, 8.22E-05, 7.63E-05, 7.12E-05, 6.69E-05, 6.31E-05, 5.97E-05, 5.67E-05, 5.40E-05, 5.18E-05, 4.99E-05, 4.80E-05, 4.65E-05, 4.59E-05, 4.50E-05, 4.46E-05, 4.39E-05, 4.34E-05, 4.30E-05, 4.28E-05, 4.27E-05, 4.26E-05, 4.17E-05, 4.11E-05, 4.03E-05, 3.92E-05, 3.82E-05, 3.74E-05, 3.69E-05, 3.61E-05, 3.51E-05, 3.37E-05, 3.22E-05, 3.05E-05, 2.91E-05, 2.75E-05, 2.69E-05, 2.69E-05, 2.68E-05, 2.62E-05, 2.55E-05, 2.48E-05, 2.39E-05, 2.28E-05, 2.22E-05, 2.18E-05, 2.12E-05, 2.05E-05, 1.95E-05, 1.82E-05, 1.68E-05, 1.57E-05, 1.51E-05, 1.48E-05, 1.50E-05, 1.57E-05,  1.63E-05, 1.64E-05, 1.63E-05, 1.64E-05, 1.65E-05, 1.64E-05, 1.61E-05, 1.57E-05, 1.52E-05,1.47E-05, 1.42E-05, 1.37E-05]\n",
        "\n",
        "x6 = [1.00E+00, 2.00E+00, 3.00E+00, 4.00E+00, 5.00E+00, 6.00E+00, 7.00E+00, 8.00E+00, 9.00E+00, 1.00E+01, 1.10E+01, 1.20E+01, 1.30E+01, 1.40E+01, 1.50E+01, 1.60E+01, 1.70E+01, 1.80E+01, 1.90E+01, 2.00E+01, 2.10E+01, 2.20E+01, 2.30E+01, 2.40E+01, 2.50E+01, 2.60E+01, 2.70E+01, 2.80E+01, 2.90E+01, 3.00E+01, 3.10E+01, 3.20E+01, 3.30E+01, 3.40E+01, 3.50E+01, 3.60E+01, 3.70E+01, 3.80E+01, 3.90E+01, 4.00E+01, 4.10E+01, 4.20E+01, 4.30E+01, 4.40E+01, 4.50E+01, 4.60E+01, 4.70E+01, 4.80E+01, 4.90E+01, 5.00E+01, 5.10E+01, 5.20E+01, 5.30E+01, 5.40E+01, 5.50E+01, 5.60E+01, 5.70E+01, 5.80E+01, 5.90E+01, 6.00E+01, 6.10E+01, 6.20E+01, 6.30E+01, 6.40E+01, 6.50E+01, 6.60E+01, 6.70E+01, 6.80E+01, 6.90E+01, 7.00E+01, 7.10E+01,7.20E+01, 7.30E+01, 7.40E+01, 7.50E+01, 7.60E+01, 7.70E+01, 7.80E+01, 7.90E+01, 8.00E+01, 8.10E+01, 8.20E+01, 8.30E+01, 8.40E+01, 8.50E+01, 8.60E+01, 8.70E+01, 8.80E+01, 8.90E+01, 9.00E+01, 9.10E+01, 9.20E+01, 9.30E+01, 9.40E+01, 9.50E+01, 9.60E+01, 9.70E+01, 9.80E+01, 9.90E+01, 1.00E+02]\n",
        "y6 = [7.95E-03, 7.54E-04, 4.01E-04, 3.68E-04, 3.76E-04, 2.81E-04, 1.87E-04, 1.30E-04,9.57E-05, 8.08E-05, 6.42E-05, 6.13E-05, 5.07E-05, 5.01E-05, 4.14E-05, 3.65E-05, 3.22E-05, 2.85E-05, 2.51E-05, 2.20E-05, 1.92E-05, 1.68E-05, 1.47E-05, 1.29E-05, 1.13E-05, 1.00E-05, 8.97E-06, 8.05E-06, 7.35E-06, 6.91E-06, 6.48E-06, 6.77E-06, 6.35E-06, 6.09E-06, 6.13E-06, 6.23E-06, 6.26E-06, 6.43E-06, 6.37E-06, 6.47E-06, 6.30E-06, 6.28E-06, 6.45E-06, 6.63E-06, 7.01E-06, 7.60E-06, 7.73E-06, 8.09E-06, 8.29E-06, 8.60E-06, 8.69E-06, 8.76E-06, 8.92E-06, 8.98E-06, 9.03E-06, 8.32E-06, 8.29E-06, 7.06E-06, 6.41E-06, 5.72E-06, 5.65E-06, 4.99E-06, 4.67E-06, 4.40E-06, 4.18E-06, 4.01E-06, 3.89E-06, 3.90E-06, 3.96E-06, 4.05E-06, 4.04E-06, 3.98E-06, 3.94E-06, 3.89E-06, 3.90E-06, 3.91E-06, 3.92E-06, 3.89E-06, 3.99E-06, 4.13E-06, 4.32E-06, 4.50E-06, 4.66E-06, 4.42E-06, 4.40E-06, 4.26E-06, 4.34E-06, 4.29E-06, 4.28E-06, 4.24E-06, 4.27E-06, 4.22E-06, 4.17E-06, 4.52E-06, 4.35E-06, 4.08E-06, 3.91E-06, 3.75E-06, 3.44E-06, 3.07E-06]\n",
        "plt.figure(figsize= (10,7))\n",
        "\n",
        "plt.plot(x5,y5)\n",
        "plt.plot(x6,y6)\n",
        "plt.plot(x5,y5,label = \"RMS K-TurbKE\")\n",
        "plt.plot(x6,y6,label = \"RMS O-TurbFreq\")\n",
        "plt.legend()\n",
        "plt.show()"
      ],
      "metadata": {
        "id": "WWGxchsYCrWd",
        "colab": {
          "base_uri": "https://localhost:8080/",
          "height": 428
        },
        "outputId": "c52ff287-fad6-4fa5-8a46-a6f588910c39"
      },
      "execution_count": null,
      "outputs": [
        {
          "output_type": "display_data",
          "data": {
            "text/plain": [
              "<Figure size 720x504 with 1 Axes>"
            ],
            "image/png": "[encoded data removed]"
          },
          "metadata": {
            "needs_background": "light"
          }
        }
      ]
    },
    {
      "cell_type": "markdown",
      "source": [
        "Heat Transfer"
      ],
      "metadata": {
        "id": "PJvL5Jla0vCC"
      }
    },
    {
      "cell_type": "code",
      "source": [
        "x7 = [1.00E+00,2.00E+00,3.00E+00,4.00E+00,5.00E+00,6.00E+00,7.00E+00,8.00E+00,9.00E+00,1.00E+01,1.10E+01,1.20E+01,1.30E+01,1.40E+01,1.50E+01,1.60E+01,1.70E+01,1.80E+01,1.90E+01,2.00E+01,2.10E+01,2.20E+01,2.30E+01,2.40E+01,2.50E+01,2.60E+01,2.70E+01,2.80E+01,2.90E+01,3.00E+01,3.10E+01,3.20E+01,3.30E+01,3.40E+01,3.50E+01,3.60E+01,3.70E+01,3.80E+01,3.90E+01,4.00E+01,4.10E+01,4.20E+01,4.30E+01,4.40E+01,4.50E+01,4.60E+01,4.70E+01,4.80E+01,4.90E+01,5.00E+01,5.10E+01,5.20E+01,5.30E+01,5.40E+01,5.50E+01,5.60E+01,5.70E+01,5.80E+01,5.90E+01,6.00E+01,6.10E+01,6.20E+01,6.30E+01,6.40E+01,6.50E+01,6.60E+01,6.70E+01,6.80E+01,6.90E+01,7.00E+01,7.10E+01,7.20E+01,7.30E+01,7.40E+01,7.50E+01,7.60E+01,7.70E+01,7.80E+01,7.90E+01,8.00E+01,8.10E+01,8.20E+01,8.30E+01,8.40E+01,8.50E+01,8.60E+01,8.70E+01,8.80E+01,8.90E+01,9.00E+01,9.10E+01,9.20E+01,9.30E+01,9.40E+01,9.50E+01,9.60E+01,9.70E+01,9.80E+01,9.90E+01,1.00E+02]\n",
        "y7 = [3.42E-03,4.73E-03,4.58E-03,5.66E-03,3.03E-03,1.09E-03,6.34E-04,3.63E-04,1.97E-04,1.82E-04,1.65E-04,1.55E-04,1.46E-04,1.39E-04,1.36E-04,1.34E-04,1.32E-04,1.36E-04,1.40E-04,1.44E-04,1.50E-04,1.53E-04,1.54E-04,1.56E-04,1.61E-04,1.68E-04,1.75E-04,1.81E-04,1.83E-04,1.80E-04,1.78E-04,1.80E-04,1.86E-04,1.88E-04,1.89E-04,1.85E-04,1.87E-04,1.99E-04,2.16E-04,2.36E-04,2.53E-04,2.64E-04,2.68E-04,2.71E-04,2.69E-04,2.63E-04,2.60E-04,2.55E-04,2.51E-04,2.49E-04,2.76E-04,2.48E-04,2.47E-04,2.45E-04,2.44E-04,2.43E-04,2.45E-04,2.42E-04,2.35E-04,2.27E-04,2.11E-04,2.02E-04,1.95E-04,1.95E-04,1.99E-04,2.03E-04,2.04E-04,2.02E-04,2.02E-04,2.09E-04,2.17E-04,2.24E-04,2.23E-04,2.22E-04,2.21E-04,2.22E-04,2.22E-04,2.19E-04,2.16E-04,2.12E-04,2.07E-04,2.02E-04,1.96E-04,1.91E-04,1.85E-04,1.80E-04,1.76E-04,1.72E-04,1.68E-04,1.64E-04,1.61E-04,1.60E-04,1.61E-04,1.65E-04,1.68E-04,1.70E-04,1.68E-04,1.65E-04,1.59E-04,1.53E-04]\n",
        "plt.plot(x7,y7)\n",
        "plt.plot(x7,y7,label = \"RMS Wallscale\")\n",
        "plt.legend()\n",
        "plt.show()"
      ],
      "metadata": {
        "id": "d1qS88Be0vb2",
        "colab": {
          "base_uri": "https://localhost:8080/",
          "height": 265
        },
        "outputId": "ae97a86b-21e8-4d00-d7ac-9ba560e5f01b"
      },
      "execution_count": null,
      "outputs": [
        {
          "output_type": "display_data",
          "data": {
            "text/plain": [
              "<Figure size 432x288 with 1 Axes>"
            ],
            "image/png": "[encoded data removed]"
          },
          "metadata": {
            "needs_background": "light"
          }
        }
      ]
    },
    {
      "cell_type": "markdown",
      "source": [
        "Wall Scale"
      ],
      "metadata": {
        "id": "1NsYssiX1D7D"
      }
    },
    {
      "cell_type": "code",
      "source": [
        "x8 = [1.00E+00,2.00E+00,3.00E+00,4.00E+00,5.00E+00,6.00E+00,7.00E+00,8.00E+00,9.00E+00]\n",
        "y8 = [1.58E-04,6.08E-04,2.13E-04,1.09E-04,5.88E-05,3.00E-05,1.57E-05,8.32E-06,4.46E-06]\n",
        "plt.plot(x8,y8)\n",
        "plt.plot(x8,y8,label = \"RMS Wallscale\")\n",
        "plt.legend()\n",
        "plt.show()"
      ],
      "metadata": {
        "colab": {
          "base_uri": "https://localhost:8080/",
          "height": 265
        },
        "id": "0eDarFXs1EOd",
        "outputId": "ed736457-51a4-4b4f-f3f1-d053fe081ee5"
      },
      "execution_count": null,
      "outputs": [
        {
          "output_type": "display_data",
          "data": {
            "text/plain": [
              "<Figure size 432x288 with 1 Axes>"
            ],
            "image/png": "[encoded data removed]"
          },
          "metadata": {
            "needs_background": "light"
          }
        }
      ]
    },
    {
      "cell_type": "markdown",
      "source": [
        "# Pressão AUV"
      ],
      "metadata": {
        "id": "wiwd47H_qohA"
      }
    },
    {
      "cell_type": "code",
      "source": [
        "x9 = [0.00E+00, 0.00E+00, 0.00E+00, 0.00E+00, 0.00E+00, 0.00E+00, 0.00E+00, 0.00E+00, 0.00E+00, 0.00E+00, 0.00E+00, 0.00E+00, 0.00E+00, 0.00E+00, 0.00E+00, 0.00E+00, 0.00E+00, 0.00E+00, 0.00E+00, 0.00E+00, 0.00E+00, 0.00E+00, 0.00E+00, 0.00E+00, 0.00E+00, 0.00E+00, 0.00E+00, 0.00E+00, 0.00E+00, 0.00E+00, 0.00E+00, 0.00E+00, 0.00E+00, 0.00E+00, 0.00E+00, 0.00E+00, 0.00E+00, 0.00E+00, 0.00E+00, 0.00E+00, 0.00E+00, 0.00E+00, 0.00E+00, 0.00E+00, 0.00E+00, 0.00E+00, 0.00E+00, 0.00E+00, 0.00E+00, 0.00E+00, 0.00E+00, 0.00E+00, 0.00E+00, 0.00E+00, 0.00E+00, 0.00E+00, 0.00E+00, 0.00E+00, 0.00E+00, 0.00E+00, 0.00E+00, 0.00E+00, 0.00E+00, 0.00E+00, 0.00E+00, 0.00E+00, 0.00E+00, 0.00E+00, 0.00E+00, 0.00E+00, 0.00E+00, 0.00E+00, 0.00E+00, 0.00E+00, 0.00E+00, 0.00E+00, 0.00E+00, 0.00E+00, 0.00E+00, 0.00E+00, 0.00E+00, 0.00E+00, 0.00E+00, 0.00E+00, 0.00E+00, 0.00E+00, 0.00E+00, 0.00E+00, 0.00E+00, 0.00E+00, 0.00E+00, 0.00E+00, 0.00E+00, 0.00E+00, 0.00E+00, 0.00E+00, 0.00E+00, 0.00E+00, 0.00E+00, 0.00E+00, 0.00E+00, 0.00E+00, 0.00E+00, 0.00E+00, 0.00E+00, 0.00E+00, 0.00E+00, 0.00E+00, 0.00E+00, 0.00E+00, 0.00E+00, 0.00E+00, 0.00E+00, 0.00E+00, 0.00E+00, 0.00E+00, 0.00E+00, 0.00E+00, 0.00E+00, 0.00E+00, 0.00E+00, 0.00E+00, 0.00E+00, 0.00E+00, 0.00E+00, 0.00E+00, 0.00E+00, 0.00E+00, 0.00E+00, 0.00E+00, 0.00E+00, 0.00E+00, 0.00E+00, 0.00E+00, 0.00E+00, 0.00E+00, 0.00E+00, 0.00E+00, 0.00E+00, 0.00E+00, 0.00E+00, 0.00E+00, 0.00E+00, 0.00E+00, 0.00E+00, 0.00E+00, 0.00E+00, 0.00E+00, 0.00E+00, 0.00E+00, 0.00E+00, 0.00E+00, 0.00E+00, 0.00E+00, 0.00E+00, 0.00E+00, 0.00E+00, 0.00E+00, 0.00E+00, 0.00E+00, 0.00E+00, 0.00E+00, 0.00E+00, 0.00E+00, 0.00E+00, 0.00E+00, 0.00E+00, 0.00E+00, 0.00E+00, 0.00E+00, 0.00E+00, 0.00E+00, 0.00E+00, 0.00E+00, 0.00E+00, 0.00E+00, 0.00E+00, 0.00E+00, 0.00E+00, 0.00E+00, 0.00E+00, 0.00E+00, 0.00E+00, 0.00E+00, 0.00E+00, 0.00E+00, 0.00E+00, 0.00E+00, 0.00E+00, 0.00E+00, 0.00E+00, 0.00E+00, 0.00E+00, 0.00E+00, 0.00E+00, 0.00E+00, 0.00E+00, 0.00E+00, 0.00E+00, 0.00E+00, 0.00E+00, 0.00E+00, 0.00E+00, 0.00E+00, 0.00E+00, 0.00E+00, 0.00E+00, 0.00E+00, 0.00E+00, 0.00E+00, 0.00E+00, 0.00E+00, 0.00E+00, 0.00E+00, 0.00E+00, 0.00E+00, 0.00E+00, 0.00E+00, 0.00E+00, 0.00E+00, 0.00E+00, 0.00E+00, 0.00E+00, 0.00E+00, 0.00E+00, 0.00E+00, 0.00E+00, 0.00E+00, 0.00E+00, 0.00E+00, 0.00E+00, 0.00E+00, 0.00E+00, 0.00E+00, 0.00E+00, 0.00E+00, 0.00E+00, 0.00E+00, 0.00E+00, 0.00E+00, 0.00E+00, 0.00E+00, 0.00E+00, 0.00E+00, 0.00E+00, 0.00E+00, 0.00E+00, 0.00E+00, 0.00E+00, 0.00E+00, 0.00E+00, 0.00E+00, 0.00E+00, 0.00E+00, 0.00E+00, 0.00E+00, 0.00E+00, 0.00E+00, 0.00E+00, 0.00E+00, 0.00E+00, 0.00E+00, 0.00E+00, 0.00E+00, 0.00E+00, 0.00E+00, 0.00E+00, 0.00E+00, 0.00E+00, 0.00E+00, 0.00E+00, 0.00E+00, 0.00E+00, 0.00E+00, 0.00E+00, 0.00E+00, 0.00E+00, 0.00E+00, 0.00E+00, 0.00E+00, 0.00E+00, 0.00E+00, 0.00E+00, 0.00E+00, 0.00E+00, 0.00E+00, 0.00E+00, 0.00E+00, 0.00E+00, 0.00E+00, 0.00E+00, 0.00E+00, 0.00E+00, 0.00E+00, 0.00E+00, 0.00E+00, 0.00E+00, 0.00E+00, 0.00E+00, 0.00E+00, 0.00E+00, 0.00E+00, 0.00E+00, 0.00E+00, 0.00E+00, 0.00E+00, 0.00E+00, 0.00E+00, 0.00E+00, 0.00E+00, 0.00E+00, 0.00E+00, 0.00E+00, 0.00E+00, 0.00E+00, 0.00E+00, 0.00E+00, 0.00E+00, 0.00E+00, 0.00E+00, 0.00E+00, 0.00E+00, 0.00E+00, 0.00E+00, 0.00E+00, 0.00E+00, 0.00E+00, 0.00E+00, 0.00E+00, 0.00E+00, 0.00E+00, 0.00E+00, 0.00E+00, 0.00E+00, 0.00E+00, 0.00E+00, 0.00E+00, 0.00E+00, 0.00E+00, 0.00E+00, 0.00E+00, 0.00E+00, 0.00E+00, 0.00E+00, 0.00E+00, 0.00E+00, 0.00E+00, 0.00E+00, 0.00E+00, 0.00E+00, 0.00E+00, 0.00E+00, 0.00E+00, 0.00E+00, 0.00E+00, 0.00E+00, 0.00E+00, 0.00E+00, 0.00E+00, 0.00E+00, 0.00E+00, 0.00E+00, 0.00E+00, 0.00E+00, 0.00E+00, 0.00E+00, 0.00E+00, 0.00E+00, 0.00E+00, 0.00E+00, 0.00E+00, 0.00E+00, 0.00E+00, 0.00E+00, 0.00E+00, 0.00E+00, 0.00E+00, 0.00E+00, 0.00E+00, 0.00E+00, 0.00E+00, 0.00E+00, 0.00E+00, 0.00E+00, 0.00E+00, 0.00E+00, 0.00E+00, 0.00E+00, 0.00E+00, 0.00E+00, 0.00E+00, 0.00E+00, 0.00E+00, 0.00E+00, 0.00E+00, 0.00E+00, 0.00E+00, 0.00E+00, 0.00E+00]\n",
        "y9 = [1.01E+05, 1.01E+05, 1.01E+05, 1.01E+05, 1.01E+05, 1.01E+05, 1.01E+05, 1.01E+05, 1.01E+05, 1.01E+05, 1.01E+05, 1.01E+05, 1.01E+05, 1.01E+05, 1.01E+05, 1.01E+05, 1.01E+05, 1.01E+05, 1.01E+05, 1.01E+05, 1.01E+05, 1.01E+05, 1.01E+05, 1.01E+05, 1.01E+05, 1.01E+05, 1.01E+05, 1.01E+05, 1.01E+05, 1.01E+05, 1.01E+05, 1.01E+05, 1.01E+05, 1.01E+05, 1.01E+05, 1.01E+05, 1.01E+05, 1.01E+05, 1.01E+05, 1.01E+05, 1.01E+05, 1.01E+05, 1.01E+05, 1.01E+05, 1.01E+05, 1.01E+05, 1.01E+05, 1.01E+05, 1.01E+05, 1.01E+05, 1.01E+05, 1.01E+05, 1.01E+05, 1.01E+05, 1.01E+05, 1.01E+05, 1.01E+05, 1.01E+05, 1.01E+05, 1.01E+05, 1.01E+05, 1.01E+05, 1.01E+05, 1.01E+05, 1.01E+05, 1.01E+05, 1.01E+05, 1.01E+05, 1.01E+05, 1.01E+05, 1.01E+05, 1.01E+05, 1.01E+05, 1.01E+05, 1.01E+05, 1.01E+05, 1.01E+05, 1.01E+05, 1.01E+05, 1.01E+05, 1.01E+05, 1.01E+05, 1.01E+05, 1.01E+05, 1.01E+05, 1.01E+05, 1.01E+05, 1.01E+05, 1.01E+05, 1.01E+05, 1.01E+05, 1.01E+05, 1.01E+05, 1.01E+05, 1.01E+05, 1.01E+05, 1.01E+05, 1.01E+05, 1.01E+05, 1.01E+05, 1.01E+05, 1.01E+05, 1.01E+05, 1.01E+05, 1.01E+05, 1.01E+05, 1.01E+05, 1.01E+05, 1.01E+05, 1.01E+05, 1.01E+05, 1.01E+05, 1.01E+05, 1.01E+05, 1.01E+05, 1.01E+05, 1.01E+05, 1.01E+05, 1.01E+05, 1.01E+05, 1.01E+05, 1.01E+05, 1.01E+05, 1.01E+05, 1.01E+05, 1.01E+05, 1.01E+05, 1.01E+05, 1.01E+05, 1.01E+05, 1.01E+05, 1.01E+05, 1.01E+05, 1.01E+05, 1.01E+05, 1.01E+05, 1.01E+05, 1.01E+05, 1.01E+05, 1.01E+05, 1.01E+05, 1.01E+05, 1.01E+05, 1.01E+05, 1.01E+05, 1.01E+05, 1.01E+05, 1.01E+05, 1.01E+05, 1.01E+05, 1.01E+05, 1.01E+05, 1.01E+05, 1.01E+05, 1.01E+05, 1.01E+05, 1.01E+05, 1.01E+05, 1.01E+05, 1.01E+05 ,1.01E+05, 1.01E+05, 1.01E+05, 1.01E+05, 1.01E+05, 1.01E+05, 1.01E+05, 1.01E+05, 1.01E+05, 1.01E+05, 1.01E+05, 1.01E+05, 1.01E+05, 1.01E+05, 1.01E+05, 1.01E+05, 1.01E+05, 1.01E+05, 1.01E+05, 1.01E+05, 1.01E+05, 1.01E+05, 1.01E+05, 1.01E+05, 1.01E+05, 1.01E+05, 1.01E+05, 1.01E+05, 1.01E+05, 1.01E+05, 1.01E+05, 1.01E+05, 1.01E+05, 1.01E+05, 1.01E+05, 1.01E+05, 1.01E+05, 1.01E+05, 1.01E+05, 1.01E+05, 1.01E+05, 1.01E+05, 1.01E+05, 1.01E+05, 1.01E+05, 1.01E+05, 1.01E+05, 1.01E+05, 1.01E+05, 1.01E+05, 1.01E+05, 1.01E+05, 1.01E+05, 1.01E+05, 1.01E+05, 1.01E+05, 1.01E+05, 1.01E+05, 1.01E+05, 1.01E+05, 1.01E+05, 1.01E+05, 1.01E+05, 1.01E+05, 1.01E+05, 1.01E+05, 1.01E+05, 1.01E+05, 1.01E+05, 1.01E+05, 1.01E+05, 1.01E+05, 1.01E+05, 1.01E+05, 1.01E+05, 1.01E+05, 1.01E+05, 1.01E+05, 1.01E+05, 1.01E+05, 1.01E+05, 1.01E+05, 1.01E+05, 1.01E+05, 1.01E+05, 1.01E+05, 1.01E+05, 1.01E+05, 1.01E+05, 1.01E+05, 1.01E+05, 1.01E+05, 1.01E+05, 1.01E+05, 1.01E+05, 1.01E+05, 1.01E+05, 1.01E+05, 1.01E+05, 1.01E+05, 1.01E+05, 1.01E+05, 1.01E+05, 1.01E+05, 1.01E+05, 1.01E+05, 1.01E+05, 1.01E+05, 1.01E+05, 1.01E+05, 1.01E+05, 1.01E+05, 1.01E+05, 1.01E+05, 1.01E+05, 1.01E+05, 1.01E+05, 1.01E+05, 1.01E+05, 1.01E+05, 1.01E+05, 1.01E+05, 1.01E+05, 1.01E+05, 1.01E+05, 1.01E+05, 1.01E+05, 1.01E+05, 1.01E+05, 1.01E+05, 1.01E+05, 1.01E+05, 1.01E+05, 1.01E+05, 1.01E+05, 1.01E+05, 1.01E+05, 1.01E+05, 1.01E+05, 1.01E+05, 1.01E+05, 1.01E+05, 1.01E+05, 1.01E+05, 1.01E+05, 1.01E+05, 1.01E+05, 1.01E+05, 1.01E+05, 1.01E+05, 1.01E+05, 1.01E+05, 1.01E+05, 1.01E+05, 1.01E+05, 1.01E+05, 1.01E+05, 1.01E+05, 1.01E+05, 1.01E+05, 1.01E+05, 1.01E+05, 1.01E+05, 1.01E+05, 1.01E+05, 1.01E+05, 1.01E+05, 1.01E+05, 1.01E+05, 1.01E+05, 1.01E+05, 1.01E+05, 1.01E+05, 1.01E+05, 1.01E+05, 1.01E+05, 1.01E+05, 1.01E+05, 1.01E+05, 1.01E+05, 1.01E+05, 1.01E+05, 1.01E+05, 1.01E+05, 1.01E+05, 1.01E+05, 1.01E+05, 1.01E+05, 1.01E+05, 1.01E+05, 1.01E+05, 1.01E+05, 1.01E+05, 1.01E+05, 1.01E+05, 1.01E+05, 1.01E+05, 1.01E+05, 1.01E+05, 1.01E+05, 1.01E+05, 1.01E+05, 1.01E+05, 1.01E+05, 1.01E+05, 1.01E+05, 1.01E+05, 1.01E+05, 1.01E+05, 1.01E+05, 1.01E+05, 1.01E+05, 1.01E+05, 1.01E+05, 1.01E+05, 1.01E+05, 1.01E+05, 1.01E+05, 1.01E+05, 1.01E+05, 1.01E+05, 1.01E+05, 1.01E+05, 1.01E+05, 1.01E+05, 1.01E+05, 1.01E+05, 1.01E+05, 1.01E+05, 1.01E+05, 1.01E+05, 1.01E+05, 1.01E+05, 1.01E+05, 1.01E+05, 1.01E+05, 1.01E+05, 1.01E+05, 1.01E+05]\n",
        "plt.plot(x9,y9,label = \"X x Pressaõ\")\n",
        "plt.plot(x9,y9)\n",
        "plt.legend()\n",
        "plt.show()"
      ],
      "metadata": {
        "colab": {
          "base_uri": "https://localhost:8080/",
          "height": 265
        },
        "id": "d3c_TRfMqn7A",
        "outputId": "1d3d0974-7ee7-4ebb-c4db-7e0ae19d41e9"
      },
      "execution_count": null,
      "outputs": [
        {
          "output_type": "display_data",
          "data": {
            "text/plain": [
              "<Figure size 432x288 with 1 Axes>"
            ],
            "image/png": "[encoded data removed]"
          },
          "metadata": {
            "needs_background": "light"
          }
        }
      ]
    },
    {
      "cell_type": "code",
      "source": [
        "x10 = [-1.00E+01,-9.95E+00,-9.90E+00,-9.85E+00,-9.80E+00,-9.75E+00,-9.70E+00,-9.65E+00,-9.60E+00,-9.55E+00,-9.50E+00,-9.45E+00,-9.40E+00,-9.35E+00,-9.30E+00,-9.25E+00,-9.20E+00,-9.15E+00,-9.10E+00,-9.05E+00,-9.00E+00,-8.95E+00,-8.90E+00,-8.85E+00,-8.80E+00,-8.75E+00,-8.70E+00,-8.65E+00,-8.60E+00,-8.55E+00,-8.50E+00,-8.45E+00,-8.40E+00,-8.35E+00,-8.30E+00,-8.25E+00,-8.20E+00,-8.15E+00,-8.10E+00,-8.05E+00,-7.99E+00,-7.94E+00,-7.89E+00,-7.84E+00,-7.79E+00,-7.74E+00,-7.69E+00,-7.64E+00,-7.59E+00,-7.54E+00,-7.49E+00,-7.44E+00,-7.39E+00,-7.34E+00,-7.29E+00,-7.24E+00,-7.19E+00,-7.14E+00,-7.09E+00,-7.04E+00,-6.99E+00,-6.94E+00,-6.89E+00,-6.84E+00,-6.79E+00,-6.74E+00,-6.69E+00,-6.64E+00,-6.59E+00,-6.54E+00,-6.49E+00,-6.44E+00,-6.39E+00,-6.34E+00,-6.29E+00,-6.24E+00,-6.19E+00,-6.14E+00,-6.09E+00,-6.04E+00,-5.99E+00,-5.94E+00,-5.89E+00,-5.84E+00,-5.79E+00,-5.74E+00,-5.69E+00,-5.64E+00,-5.59E+00,-5.54E+00,-5.49E+00,-5.44E+00,-5.39E+00,-5.34E+00,-5.29E+00,-5.24E+00,-5.19E+00,-5.14E+00,-5.09E+00,-5.04E+00,-4.99E+00,-4.94E+00,-4.89E+00,-4.84E+00,-4.79E+00,-4.74E+00,-4.69E+00,-4.64E+00,-4.59E+00,-4.54E+00,-4.49E+00,-4.44E+00,-4.39E+00,-4.34E+00,-4.29E+00,-4.24E+00,-4.19E+00,-4.14E+00,-4.09E+00,-4.04E+00,-3.98E+00,-3.93E+00,-3.88E+00,-3.83E+00,-3.78E+00,-3.73E+00,-3.68E+00,-3.63E+00,-3.58E+00,-3.53E+00,-3.48E+00,-3.43E+00,-3.38E+00,-3.33E+00,-3.28E+00,-3.23E+00,-3.18E+00,-3.13E+00,-3.08E+00,-3.03E+00,-2.98E+00,-2.93E+00,-2.88E+00,-2.83E+00,-2.78E+00,-2.73E+00,-2.68E+00,-2.63E+00,-2.58E+00,-2.53E+00,-2.48E+00,-2.43E+00,-2.38E+00,-2.33E+00,-2.28E+00,-2.23E+00,-2.18E+00,-2.13E+00,-2.08E+00,-2.03E+00,-1.98E+00,-1.93E+00,-1.88E+00,-1.83E+00,-1.78E+00,-1.73E+00,-1.68E+00,-1.63E+00,-1.58E+00,-1.53E+00,-1.48E+00,-1.43E+00,-1.38E+00,-1.33E+00,-1.28E+00,-1.23E+00,-1.18E+00,-1.13E+00,-1.08E+00,-1.03E+00,-9.77E-01,-9.27E-01,-8.77E-01,-8.27E-01,-7.77E-01,-7.27E-01,-6.77E-01,-6.27E-01,-5.76E-01,-5.26E-01,-4.76E-01,-4.26E-01,-3.76E-01,-3.26E-01,-2.76E-01,-2.26E-01,-1.75E-01,-1.25E-01,-7.52E-02,-2.51E-02,2.50E-02,7.52E-02,1.25E-01,1.75E-01,2.26E-01,2.76E-01,3.26E-01,3.76E-01,4.26E-01,4.76E-01,5.26E-01,5.76E-01,6.27E-01,6.77E-01,7.27E-01,7.77E-01,8.27E-01,8.77E-01,9.27E-01,9.77E-01,1.03E+00,1.08E+00,1.13E+00,1.18E+00,1.23E+00,1.28E+00,1.33E+00,1.38E+00,1.43E+00,1.48E+00,1.53E+00,1.58E+00,1.63E+00,1.68E+00,1.73E+00,1.78E+00,1.83E+00,1.88E+00,1.93E+00,1.98E+00,2.03E+00,2.08E+00,2.13E+00,2.18E+00,2.23E+00,2.28E+00,2.33E+00,2.38E+00,2.43E+00,2.48E+00,2.53E+00,2.58E+00,2.63E+00,2.68E+00,2.73E+00,2.78E+00,2.83E+00,2.88E+00,2.93E+00,2.98E+00,3.03E+00,3.08E+00,3.13E+00,3.18E+00,3.23E+00,3.28E+00,3.33E+00,3.38E+00,3.43E+00,3.48E+00,3.53E+00,3.58E+00,3.63E+00,3.68E+00,3.73E+00,3.78E+00,3.83E+00,3.88E+00,3.93E+00,3.98E+00,4.04E+00,4.09E+00,4.14E+00,4.19E+00,4.24E+00,4.29E+00,4.34E+00,4.39E+00,4.44E+00,4.49E+00,4.54E+00,4.59E+00,4.64E+00,4.69E+00,4.74E+00,4.79E+00,4.84E+00,4.89E+00,4.94E+00,4.99E+00,5.04E+00,5.09E+00,5.14E+00,5.19E+00,5.24E+00,5.29E+00,5.34E+00,5.39E+00,5.44E+00,5.49E+00,5.54E+00,5.59E+00,5.64E+00,5.69E+00,5.74E+00,5.79E+00,5.84E+00,5.89E+00,5.94E+00,5.99E+00,6.04E+00,6.09E+00,6.14E+00,6.19E+00,6.24E+00,6.29E+00,6.34E+00,6.39E+00,6.44E+00,6.49E+00,6.54E+00,6.59E+00,6.64E+00,6.69E+00,6.74E+00,6.79E+00,6.84E+00,6.89E+00,6.94E+00,6.99E+00,7.04E+00,7.09E+00,7.14E+00,7.19E+00,7.24E+00,7.29E+00,7.34E+00,7.39E+00,7.44E+00,7.49E+00,7.54E+00,7.59E+00,7.64E+00,7.69E+00,7.74E+00,7.79E+00,7.84E+00,7.89E+00,7.94E+00,7.99E+00,8.05E+00,8.10E+00,8.15E+00,8.20E+00,8.25E+00,8.30E+00,8.35E+00,8.40E+00,8.45E+00,8.50E+00,8.55E+00,8.60E+00,8.65E+00,8.70E+00,8.75E+00,8.80E+00,8.85E+00,8.90E+00,8.95E+00,9.00E+00,9.05E+00,9.10E+00,9.15E+00,9.20E+00,9.25E+00,9.30E+00,9.35E+00,9.40E+00,9.45E+00,9.50E+00,9.55E+00,9.60E+00,9.65E+00,9.70E+00,9.75E+00,9.80E+00,9.85E+00,9.90E+00,9.95E+00,1.00E+01]\n",
        "y10 = [1.01E+05, 1.01E+05, 1.01E+05, 1.01E+05, 1.01E+05, 1.01E+05, 1.01E+05, 1.01E+05, 1.01E+05, 1.01E+05, 1.01E+05, 1.01E+05, 1.01E+05, 1.01E+05, 1.01E+05, 1.01E+05, 1.01E+05, 1.01E+05, 1.01E+05, 1.01E+05, 1.01E+05, 1.01E+05, 1.01E+05, 1.01E+05, 1.01E+05, 1.01E+05, 1.01E+05, 1.01E+05, 1.01E+05, 1.01E+05, 1.01E+05, 1.01E+05, 1.01E+05, 1.01E+05, 1.01E+05, 1.01E+05, 1.01E+05, 1.01E+05, 1.01E+05, 1.01E+05, 1.01E+05, 1.01E+05, 1.01E+05, 1.01E+05, 1.01E+05, 1.01E+05, 1.01E+05, 1.01E+05, 1.01E+05, 1.01E+05, 1.01E+05, 1.01E+05, 1.01E+05, 1.01E+05, 1.01E+05, 1.01E+05, 1.01E+05, 1.01E+05, 1.01E+05, 1.01E+05, 1.01E+05, 1.01E+05, 1.01E+05, 1.01E+05, 1.01E+05, 1.01E+05, 1.01E+05, 1.01E+05, 1.01E+05, 1.01E+05, 1.01E+05, 1.01E+05, 1.01E+05, 1.01E+05, 1.01E+05, 1.01E+05, 1.01E+05, 1.01E+05, 1.01E+05, 1.01E+05, 1.01E+05, 1.01E+05, 1.01E+05, 1.01E+05, 1.01E+05, 1.01E+05, 1.01E+05, 1.01E+05, 1.01E+05, 1.01E+05, 1.01E+05, 1.01E+05, 1.01E+05, 1.01E+05, 1.01E+05, 1.01E+05, 1.01E+05, 1.01E+05, 1.01E+05, 1.01E+05, 1.01E+05, 1.01E+05, 1.01E+05, 1.01E+05, 1.01E+05, 1.01E+05, 1.01E+05, 1.01E+05, 1.01E+05, 1.01E+05, 1.01E+05, 1.01E+05, 1.01E+05, 1.01E+05, 1.01E+05, 1.01E+05, 1.01E+05, 1.01E+05, 1.01E+05, 1.01E+05, 1.01E+05, 1.01E+05, 1.01E+05, 1.01E+05, 1.01E+05, 1.01E+05, 1.01E+05, 1.01E+05, 1.01E+05, 1.01E+05, 1.01E+05, 1.01E+05, 1.01E+05, 1.01E+05, 1.01E+05, 1.01E+05, 1.01E+05, 1.01E+05, 1.01E+05, 1.01E+05, 1.01E+05, 1.01E+05, 1.01E+05, 1.01E+05, 1.01E+05, 1.01E+05, 1.01E+05, 1.01E+05, 1.01E+05, 1.01E+05, 1.01E+05, 1.01E+05, 1.01E+05, 1.01E+05, 1.01E+05, 1.01E+05, 1.01E+05, 1.01E+05, 1.01E+05, 1.01E+05, 1.01E+05, 1.01E+05, 1.01E+05, 1.01E+05, 1.01E+05, 1.01E+05, 1.01E+05, 1.01E+05, 1.01E+05, 1.01E+05, 1.01E+05, 1.01E+05, 1.01E+05, 1.01E+05, 1.01E+05, 1.01E+05, 1.01E+05, 1.01E+05, 1.01E+05, 1.01E+05, 1.01E+05, 1.01E+05, 1.01E+05, 1.01E+05, 1.01E+05, 1.01E+05, 1.01E+05, 1.01E+05, 1.01E+05, 1.01E+05, 1.01E+05, 1.01E+05, 1.01E+05, 1.01E+05, 1.01E+05, 1.01E+05, 1.01E+05, 1.01E+05, 1.01E+05, 1.01E+05, 1.01E+05, 1.01E+05, 1.01E+05, 1.01E+05, 1.01E+05, 1.01E+05, 1.01E+05, 1.01E+05, 1.01E+05, 1.01E+05, 1.01E+05, 1.01E+05, 1.01E+05, 1.01E+05, 1.01E+05, 1.01E+05, 1.01E+05, 1.01E+05, 1.01E+05, 1.01E+05, 1.01E+05, 1.01E+05, 1.01E+05, 1.01E+05, 1.01E+05, 1.01E+05, 1.01E+05, 1.01E+05, 1.01E+05, 1.01E+05, 1.01E+05, 1.01E+05, 1.01E+05, 1.01E+05, 1.01E+05, 1.01E+05, 1.01E+05, 1.01E+05, 1.01E+05, 1.01E+05, 1.01E+05, 1.01E+05, 1.01E+05, 1.01E+05, 1.01E+05, 1.01E+05, 1.01E+05, 1.01E+05, 1.01E+05, 1.01E+05, 1.01E+05, 1.01E+05, 1.01E+05, 1.01E+05, 1.01E+05, 1.01E+05, 1.01E+05, 1.01E+05, 1.01E+05, 1.01E+05, 1.01E+05, 1.01E+05, 1.01E+05, 1.01E+05, 1.01E+05, 1.01E+05, 1.01E+05, 1.01E+05, 1.01E+05, 1.01E+05, 1.01E+05, 1.01E+05, 1.01E+05, 1.01E+05, 1.01E+05, 1.01E+05, 1.01E+05, 1.01E+05, 1.01E+05, 1.01E+05, 1.01E+05, 1.01E+05, 1.01E+05, 1.01E+05, 1.01E+05, 1.01E+05, 1.01E+05, 1.01E+05, 1.01E+05, 1.01E+05, 1.01E+05, 1.01E+05, 1.01E+05, 1.01E+05, 1.01E+05, 1.01E+05, 1.01E+05, 1.01E+05, 1.01E+05, 1.01E+05, 1.01E+05, 1.01E+05, 1.01E+05, 1.01E+05, 1.01E+05, 1.01E+05, 1.01E+05, 1.01E+05, 1.01E+05, 1.01E+05, 1.01E+05, 1.01E+05, 1.01E+05, 1.01E+05, 1.01E+05, 1.01E+05, 1.01E+05, 1.01E+05, 1.01E+05, 1.01E+05, 1.01E+05, 1.01E+05, 1.01E+05, 1.01E+05, 1.01E+05, 1.01E+05, 1.01E+05, 1.01E+05, 1.01E+05, 1.01E+05, 1.01E+05, 1.01E+05, 1.01E+05, 1.01E+05, 1.01E+05, 1.01E+05, 1.01E+05, 1.01E+05, 1.01E+05, 1.01E+05, 1.01E+05, 1.01E+05, 1.01E+05, 1.01E+05, 1.01E+05, 1.01E+05, 1.01E+05, 1.01E+05, 1.01E+05, 1.01E+05, 1.01E+05, 1.01E+05, 1.01E+05, 1.01E+05, 1.01E+05, 1.01E+05, 1.01E+05, 1.01E+05, 1.01E+05, 1.01E+05, 1.01E+05, 1.01E+05, 1.01E+05, 1.01E+05, 1.01E+05, 1.01E+05, 1.01E+05, 1.01E+05, 1.01E+05, 1.01E+05, 1.01E+05, 1.01E+05, 1.01E+05, 1.01E+05, 1.01E+05, 1.01E+05, 1.01E+05, 1.01E+05, 1.01E+05, 1.01E+05, 1.01E+05, 1.01E+05, 1.01E+05, 1.01E+05, 1.01E+05, 1.01E+05, 1.01E+05, 1.01E+05, 1.01E+05, 1.01E+05, 1.01E+05, 1.01E+05, 1.01E+05, 1.01E+05, 1.01E+05, 1.01E+05, 1.01E+05, 1.01E+05, 1.01E+05, 1.01E+05]\n",
        "plt.plot(x10,y10,label = \"X x Pressaõ\")\n",
        "plt.plot(x10,y10)\n",
        "plt.legend()\n",
        "plt.show()"
      ],
      "metadata": {
        "colab": {
          "base_uri": "https://localhost:8080/",
          "height": 265
        },
        "outputId": "eafecc84-e277-4567-d68c-6a4dfc320a9b",
        "id": "t0N-RTcBPeyV"
      },
      "execution_count": null,
      "outputs": [
        {
          "output_type": "display_data",
          "data": {
            "text/plain": [
              "<Figure size 432x288 with 1 Axes>"
            ],
            "image/png": "[encoded data removed]"
          },
          "metadata": {
            "needs_background": "light"
          }
        }
      ]
    }
  ]
}